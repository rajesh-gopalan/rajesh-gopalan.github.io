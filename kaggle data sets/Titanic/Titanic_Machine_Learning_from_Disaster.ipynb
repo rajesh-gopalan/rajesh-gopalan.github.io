{
 "cells": [
  {
   "cell_type": "markdown",
   "metadata": {
    "collapsed": true
   },
   "source": [
    "*My method of attack on this challenge, is to utilize logistic regression to predict the attribution of relevant variables on the survival of the passsengers.  In order to come up with a list of potential variables that I can regress on, I need to better understand the dataset.*  \n",
    "In order to better understand the dataset, I'm going to read in the 'traning' set and do some exploratory analysis.  Let's go!  \n",
    "\n",
    "I will be using Python 2.7, and the pandas, numpy, matplotlib and seaborn libararies to perform my data analysis and prediction."
   ]
  },
  {
   "cell_type": "code",
   "execution_count": 1,
   "metadata": {
    "collapsed": true
   },
   "outputs": [],
   "source": [
    "# Import pandas library for rading in csv and analyzing data frames\n",
    "# Using 2-character names 'reduces' typing [yeah, I'm lazy! :) ]\n",
    "import pandas as pd\n",
    "from pandas import Series, DataFrame"
   ]
  },
  {
   "cell_type": "code",
   "execution_count": 2,
   "metadata": {
    "collapsed": true
   },
   "outputs": [],
   "source": [
    "titanic_DF = pd.read_csv(\"train.csv\")"
   ]
  },
  {
   "cell_type": "markdown",
   "metadata": {
    "collapsed": false
   },
   "source": [
    "What does the data look like?"
   ]
  },
  {
   "cell_type": "code",
   "execution_count": 3,
   "metadata": {
    "collapsed": false
   },
   "outputs": [
    {
     "data": {
      "text/html": [
       "<div>\n",
       "<table border=\"1\" class=\"dataframe\">\n",
       "  <thead>\n",
       "    <tr style=\"text-align: right;\">\n",
       "      <th></th>\n",
       "      <th>PassengerId</th>\n",
       "      <th>Survived</th>\n",
       "      <th>Pclass</th>\n",
       "      <th>Name</th>\n",
       "      <th>Sex</th>\n",
       "      <th>Age</th>\n",
       "      <th>SibSp</th>\n",
       "      <th>Parch</th>\n",
       "      <th>Ticket</th>\n",
       "      <th>Fare</th>\n",
       "      <th>Cabin</th>\n",
       "      <th>Embarked</th>\n",
       "    </tr>\n",
       "  </thead>\n",
       "  <tbody>\n",
       "    <tr>\n",
       "      <th>0</th>\n",
       "      <td>1</td>\n",
       "      <td>0</td>\n",
       "      <td>3</td>\n",
       "      <td>Braund, Mr. Owen Harris</td>\n",
       "      <td>male</td>\n",
       "      <td>22</td>\n",
       "      <td>1</td>\n",
       "      <td>0</td>\n",
       "      <td>A/5 21171</td>\n",
       "      <td>7.2500</td>\n",
       "      <td>NaN</td>\n",
       "      <td>S</td>\n",
       "    </tr>\n",
       "    <tr>\n",
       "      <th>1</th>\n",
       "      <td>2</td>\n",
       "      <td>1</td>\n",
       "      <td>1</td>\n",
       "      <td>Cumings, Mrs. John Bradley (Florence Briggs Th...</td>\n",
       "      <td>female</td>\n",
       "      <td>38</td>\n",
       "      <td>1</td>\n",
       "      <td>0</td>\n",
       "      <td>PC 17599</td>\n",
       "      <td>71.2833</td>\n",
       "      <td>C85</td>\n",
       "      <td>C</td>\n",
       "    </tr>\n",
       "    <tr>\n",
       "      <th>2</th>\n",
       "      <td>3</td>\n",
       "      <td>1</td>\n",
       "      <td>3</td>\n",
       "      <td>Heikkinen, Miss. Laina</td>\n",
       "      <td>female</td>\n",
       "      <td>26</td>\n",
       "      <td>0</td>\n",
       "      <td>0</td>\n",
       "      <td>STON/O2. 3101282</td>\n",
       "      <td>7.9250</td>\n",
       "      <td>NaN</td>\n",
       "      <td>S</td>\n",
       "    </tr>\n",
       "    <tr>\n",
       "      <th>3</th>\n",
       "      <td>4</td>\n",
       "      <td>1</td>\n",
       "      <td>1</td>\n",
       "      <td>Futrelle, Mrs. Jacques Heath (Lily May Peel)</td>\n",
       "      <td>female</td>\n",
       "      <td>35</td>\n",
       "      <td>1</td>\n",
       "      <td>0</td>\n",
       "      <td>113803</td>\n",
       "      <td>53.1000</td>\n",
       "      <td>C123</td>\n",
       "      <td>S</td>\n",
       "    </tr>\n",
       "    <tr>\n",
       "      <th>4</th>\n",
       "      <td>5</td>\n",
       "      <td>0</td>\n",
       "      <td>3</td>\n",
       "      <td>Allen, Mr. William Henry</td>\n",
       "      <td>male</td>\n",
       "      <td>35</td>\n",
       "      <td>0</td>\n",
       "      <td>0</td>\n",
       "      <td>373450</td>\n",
       "      <td>8.0500</td>\n",
       "      <td>NaN</td>\n",
       "      <td>S</td>\n",
       "    </tr>\n",
       "  </tbody>\n",
       "</table>\n",
       "</div>"
      ],
      "text/plain": [
       "   PassengerId  Survived  Pclass  \\\n",
       "0            1         0       3   \n",
       "1            2         1       1   \n",
       "2            3         1       3   \n",
       "3            4         1       1   \n",
       "4            5         0       3   \n",
       "\n",
       "                                                Name     Sex  Age  SibSp  \\\n",
       "0                            Braund, Mr. Owen Harris    male   22      1   \n",
       "1  Cumings, Mrs. John Bradley (Florence Briggs Th...  female   38      1   \n",
       "2                             Heikkinen, Miss. Laina  female   26      0   \n",
       "3       Futrelle, Mrs. Jacques Heath (Lily May Peel)  female   35      1   \n",
       "4                           Allen, Mr. William Henry    male   35      0   \n",
       "\n",
       "   Parch            Ticket     Fare Cabin Embarked  \n",
       "0      0         A/5 21171   7.2500   NaN        S  \n",
       "1      0          PC 17599  71.2833   C85        C  \n",
       "2      0  STON/O2. 3101282   7.9250   NaN        S  \n",
       "3      0            113803  53.1000  C123        S  \n",
       "4      0            373450   8.0500   NaN        S  "
      ]
     },
     "execution_count": 3,
     "metadata": {},
     "output_type": "execute_result"
    }
   ],
   "source": [
    "titanic_DF.head()"
   ]
  },
  {
   "cell_type": "markdown",
   "metadata": {},
   "source": [
    "Ok, so there are **12 features (columns)**.  Let's see some statistics for this data set."
   ]
  },
  {
   "cell_type": "code",
   "execution_count": 4,
   "metadata": {
    "collapsed": false
   },
   "outputs": [
    {
     "name": "stdout",
     "output_type": "stream",
     "text": [
      "<class 'pandas.core.frame.DataFrame'>\n",
      "Int64Index: 891 entries, 0 to 890\n",
      "Data columns (total 12 columns):\n",
      "PassengerId    891 non-null int64\n",
      "Survived       891 non-null int64\n",
      "Pclass         891 non-null int64\n",
      "Name           891 non-null object\n",
      "Sex            891 non-null object\n",
      "Age            714 non-null float64\n",
      "SibSp          891 non-null int64\n",
      "Parch          891 non-null int64\n",
      "Ticket         891 non-null object\n",
      "Fare           891 non-null float64\n",
      "Cabin          204 non-null object\n",
      "Embarked       889 non-null object\n",
      "dtypes: float64(2), int64(5), object(5)\n",
      "memory usage: 90.5+ KB\n"
     ]
    }
   ],
   "source": [
    "titanic_DF.info()"
   ]
  },
  {
   "cell_type": "markdown",
   "metadata": {},
   "source": [
    "Great!  So, there are **891** entries (rows) and **12** features (columns) per entry.  \n",
    "I can already see that there are a lot of unknown values (NaN) in the ***Cabin*** column, for example.  \n",
    "\n",
    "Now, for summary statistics of columns containing non-Null values:"
   ]
  },
  {
   "cell_type": "code",
   "execution_count": 5,
   "metadata": {
    "collapsed": false
   },
   "outputs": [
    {
     "data": {
      "text/html": [
       "<div>\n",
       "<table border=\"1\" class=\"dataframe\">\n",
       "  <thead>\n",
       "    <tr style=\"text-align: right;\">\n",
       "      <th></th>\n",
       "      <th>count</th>\n",
       "      <th>mean</th>\n",
       "      <th>std</th>\n",
       "      <th>min</th>\n",
       "      <th>25%</th>\n",
       "      <th>50%</th>\n",
       "      <th>75%</th>\n",
       "      <th>max</th>\n",
       "    </tr>\n",
       "  </thead>\n",
       "  <tbody>\n",
       "    <tr>\n",
       "      <th>PassengerId</th>\n",
       "      <td>891</td>\n",
       "      <td>446.000000</td>\n",
       "      <td>257.353842</td>\n",
       "      <td>1.00</td>\n",
       "      <td>223.5000</td>\n",
       "      <td>446.0000</td>\n",
       "      <td>668.5</td>\n",
       "      <td>891.0000</td>\n",
       "    </tr>\n",
       "    <tr>\n",
       "      <th>Survived</th>\n",
       "      <td>891</td>\n",
       "      <td>0.383838</td>\n",
       "      <td>0.486592</td>\n",
       "      <td>0.00</td>\n",
       "      <td>0.0000</td>\n",
       "      <td>0.0000</td>\n",
       "      <td>1.0</td>\n",
       "      <td>1.0000</td>\n",
       "    </tr>\n",
       "    <tr>\n",
       "      <th>Pclass</th>\n",
       "      <td>891</td>\n",
       "      <td>2.308642</td>\n",
       "      <td>0.836071</td>\n",
       "      <td>1.00</td>\n",
       "      <td>2.0000</td>\n",
       "      <td>3.0000</td>\n",
       "      <td>3.0</td>\n",
       "      <td>3.0000</td>\n",
       "    </tr>\n",
       "    <tr>\n",
       "      <th>Age</th>\n",
       "      <td>714</td>\n",
       "      <td>29.699118</td>\n",
       "      <td>14.526497</td>\n",
       "      <td>0.42</td>\n",
       "      <td>20.1250</td>\n",
       "      <td>28.0000</td>\n",
       "      <td>38.0</td>\n",
       "      <td>80.0000</td>\n",
       "    </tr>\n",
       "    <tr>\n",
       "      <th>SibSp</th>\n",
       "      <td>891</td>\n",
       "      <td>0.523008</td>\n",
       "      <td>1.102743</td>\n",
       "      <td>0.00</td>\n",
       "      <td>0.0000</td>\n",
       "      <td>0.0000</td>\n",
       "      <td>1.0</td>\n",
       "      <td>8.0000</td>\n",
       "    </tr>\n",
       "    <tr>\n",
       "      <th>Parch</th>\n",
       "      <td>891</td>\n",
       "      <td>0.381594</td>\n",
       "      <td>0.806057</td>\n",
       "      <td>0.00</td>\n",
       "      <td>0.0000</td>\n",
       "      <td>0.0000</td>\n",
       "      <td>0.0</td>\n",
       "      <td>6.0000</td>\n",
       "    </tr>\n",
       "    <tr>\n",
       "      <th>Fare</th>\n",
       "      <td>891</td>\n",
       "      <td>32.204208</td>\n",
       "      <td>49.693429</td>\n",
       "      <td>0.00</td>\n",
       "      <td>7.9104</td>\n",
       "      <td>14.4542</td>\n",
       "      <td>31.0</td>\n",
       "      <td>512.3292</td>\n",
       "    </tr>\n",
       "  </tbody>\n",
       "</table>\n",
       "</div>"
      ],
      "text/plain": [
       "             count        mean         std   min       25%       50%    75%  \\\n",
       "PassengerId    891  446.000000  257.353842  1.00  223.5000  446.0000  668.5   \n",
       "Survived       891    0.383838    0.486592  0.00    0.0000    0.0000    1.0   \n",
       "Pclass         891    2.308642    0.836071  1.00    2.0000    3.0000    3.0   \n",
       "Age            714   29.699118   14.526497  0.42   20.1250   28.0000   38.0   \n",
       "SibSp          891    0.523008    1.102743  0.00    0.0000    0.0000    1.0   \n",
       "Parch          891    0.381594    0.806057  0.00    0.0000    0.0000    0.0   \n",
       "Fare           891   32.204208   49.693429  0.00    7.9104   14.4542   31.0   \n",
       "\n",
       "                  max  \n",
       "PassengerId  891.0000  \n",
       "Survived       1.0000  \n",
       "Pclass         3.0000  \n",
       "Age           80.0000  \n",
       "SibSp          8.0000  \n",
       "Parch          6.0000  \n",
       "Fare         512.3292  "
      ]
     },
     "execution_count": 5,
     "metadata": {},
     "output_type": "execute_result"
    }
   ],
   "source": [
    "titanic_DF.describe().transpose()"
   ]
  },
  {
   "cell_type": "markdown",
   "metadata": {},
   "source": [
    "**Observations**:\n",
    "* 891 passengers in total.\n",
    "* The survival rate is ~38%.\n",
    "* A mix of age groups from infants to seniors.\n",
    "* Hmm, some 'free' fares showing up, and also a very high value of ~512.\n",
    "* 'Cabin' seems to be missing from the summary, indicating that it it results are thrown away."
   ]
  },
  {
   "cell_type": "markdown",
   "metadata": {},
   "source": [
    "Before I start the regression analysis, I need to find  some of the exploratory variables in the data set that could provide a good indication of the survival rates.  \n",
    "\n",
    "At this point, I'd like to start looking at what the data is telling me.  Questions that pop to my mind are:  \n",
    "(1) Do passenger Id, tickets, fares and names have anything to do with survival rate?  \n",
    "(2) Can I ignore cabins, since there are so few \"valid\" data points related to cabins?  How are cabins and Pclass related to survival rate?  \n",
    "(3) How does the demography data such as Gender, Family, Socio-Economic-Status (SES), Age relate to survival rate?  \n",
    "(4) Where did passengers board the Titanic from and does the survival rate depend on the port of embarkment?  "
   ]
  },
  {
   "cell_type": "markdown",
   "metadata": {},
   "source": [
    "# Question (1) Do tickets, fares and names have anything to do with survival rate?  \n",
    "***PassengerId***, ***Fare*** and ***Ticket*** (number) can safely be ignored for the analysis, since they don't seem to be providing much value except for book-keeping purposes.  \n",
    "The same thought process can be applied to remove ***Name*** from the list of usual suspects for the analysis as well.    "
   ]
  },
  {
   "cell_type": "markdown",
   "metadata": {},
   "source": [
    "# **Question (2) Can I ignore cabins, since there are so few \"valid\" data related to cabins?  How are Cabin and Pclass (SES), Age related to survival rate**?  \n",
    "Sub-question: Can I get a distribution of unknowns in the Cabin column?"
   ]
  },
  {
   "cell_type": "code",
   "execution_count": 6,
   "metadata": {
    "collapsed": false
   },
   "outputs": [],
   "source": [
    "# Import libraries for data analysis and visualization\n",
    "import numpy as np\n",
    "import seaborn as sbn\n",
    "%matplotlib inline"
   ]
  },
  {
   "cell_type": "code",
   "execution_count": 7,
   "metadata": {
    "collapsed": false
   },
   "outputs": [
    {
     "data": {
      "text/plain": [
       "<seaborn.axisgrid.FacetGrid at 0x107ea8d50>"
      ]
     },
     "execution_count": 7,
     "metadata": {},
     "output_type": "execute_result"
    },
    {
     "data": {
      "image/png": "[encoded data removed]",
      "text/plain": [
       "<matplotlib.figure.Figure at 0x113ce7690>"
      ]
     },
     "metadata": {},
     "output_type": "display_data"
    }
   ],
   "source": [
    "# sbn.factorplot(data=titanic_DF,kind='count',y='Pclass')\n",
    "cabinNull_DF = DataFrame(titanic_DF[pd.isnull(titanic_DF['Cabin'])])\n",
    "fig1 = sbn.factorplot(data=cabinNull_DF,kind='count',x='Pclass')\n",
    "fig1.set_axis_labels(\"Fig1. 'Pclass' vs 'NaN' Cabin count\",\"'NaN' Cabin count\")"
   ]
  },
  {
   "cell_type": "markdown",
   "metadata": {
    "collapsed": true
   },
   "source": [
    "So, it is evident from **Fig1.** that most of the unknown cabin information pertains to the 3rd SES (socio-economic status).\n",
    "\n",
    "The cabin numbers are a combination of an alphabet followed by one or more numbers.  To make it simpler to 'bin' the cabins, I'll retrieve the cabin alphabets for each of the valid cabins in the data set (cabinNotNull_DF)."
   ]
  },
  {
   "cell_type": "code",
   "execution_count": 8,
   "metadata": {
    "collapsed": false
   },
   "outputs": [
    {
     "data": {
      "text/plain": [
       "C    59\n",
       "B    47\n",
       "D    33\n",
       "E    32\n",
       "A    15\n",
       "F    13\n",
       "G     4\n",
       "T     1\n",
       "dtype: int64"
      ]
     },
     "execution_count": 8,
     "metadata": {},
     "output_type": "execute_result"
    }
   ],
   "source": [
    "cabinNotNull_DF = DataFrame(titanic_DF[pd.notnull(titanic_DF['Cabin'])])\n",
    "cabinTypes = []\n",
    "for cabin in cabinNotNull_DF['Cabin']:\n",
    "    cabinTypes.append(cabin[0])\n",
    "cabinNotNull_DF['CabinType'] = cabinTypes\n",
    "pd.value_counts(cabinNotNull_DF['CabinType'].values)"
   ]
  },
  {
   "cell_type": "markdown",
   "metadata": {},
   "source": [
    "**Hmm, there seems to be an odd cabin of type 'T' (perhaps due to a clerical data entry?).  I'll ignore that row for now.**"
   ]
  },
  {
   "cell_type": "code",
   "execution_count": 9,
   "metadata": {
    "collapsed": false
   },
   "outputs": [
    {
     "data": {
      "text/plain": [
       "C    59\n",
       "B    47\n",
       "D    33\n",
       "E    32\n",
       "A    15\n",
       "F    13\n",
       "G     4\n",
       "dtype: int64"
      ]
     },
     "execution_count": 9,
     "metadata": {},
     "output_type": "execute_result"
    }
   ],
   "source": [
    "cabinNotNull_DF = cabinNotNull_DF[cabinNotNull_DF['CabinType'] != 'T']\n",
    "pd.value_counts(cabinNotNull_DF['CabinType'].values)"
   ]
  },
  {
   "cell_type": "code",
   "execution_count": 10,
   "metadata": {
    "collapsed": false
   },
   "outputs": [
    {
     "data": {
      "text/plain": [
       "<seaborn.axisgrid.FacetGrid at 0x113db8150>"
      ]
     },
     "execution_count": 10,
     "metadata": {},
     "output_type": "execute_result"
    },
    {
     "data": {
      "image/png": "[encoded data removed]",
      "text/plain": [
       "<matplotlib.figure.Figure at 0x107e7cdd0>"
      ]
     },
     "metadata": {},
     "output_type": "display_data"
    },
    {
     "data": {
      "image/png": "[encoded data removed]",
      "text/plain": [
       "<matplotlib.figure.Figure at 0x11420dfd0>"
      ]
     },
     "metadata": {},
     "output_type": "display_data"
    }
   ],
   "source": [
    "fig2 = sbn.factorplot(data=cabinNotNull_DF,kind='count',hue='Survived',x='CabinType',legend_out=True)\n",
    "fig2.set_axis_labels(\"Fig 2. 'CabinType'\",'Count of survivors')\n",
    "fig3 = sbn.factorplot(data=cabinNotNull_DF,kind='count',hue='Survived',x='Pclass',legend_out=True)\n",
    "fig3.set_axis_labels(\"Fig 3. 'Pclass'\",'Count of survivors')"
   ]
  },
  {
   "cell_type": "markdown",
   "metadata": {},
   "source": [
    "So, based on **Fig 2.** and **Fig 3.**, we can see that Cabin and SES are certainly good indicators of survivors.  So, I choose to keep **'CabinType'** and **'Pclass'** as potential indicators of survival rate and continue the explorartory analysis."
   ]
  },
  {
   "cell_type": "markdown",
   "metadata": {},
   "source": [
    "# **Question (3) How does the demography data (Gender, Family) look?**"
   ]
  },
  {
   "cell_type": "markdown",
   "metadata": {},
   "source": [
    "Now, I'll look at whether 'Gender' in the cabinNotNull_DF data set is a good indicator of survival and compare that with 'Gender' vs. 'Survived' in the original (titanic_DF) data set."
   ]
  },
  {
   "cell_type": "code",
   "execution_count": 11,
   "metadata": {
    "collapsed": false
   },
   "outputs": [
    {
     "data": {
      "text/plain": [
       "<seaborn.axisgrid.FacetGrid at 0x113d37e50>"
      ]
     },
     "execution_count": 11,
     "metadata": {},
     "output_type": "execute_result"
    },
    {
     "data": {
      "image/png": "[encoded data removed]",
      "text/plain": [
       "<matplotlib.figure.Figure at 0x113d37ed0>"
      ]
     },
     "metadata": {},
     "output_type": "display_data"
    }
   ],
   "source": [
    "fig4 = sbn.factorplot(data=cabinNotNull_DF,kind='count',x='Sex',hue='Survived')\n",
    "fig4.set_axis_labels(\"Fig 4. Gender count (cabinNotNull_DF)\")"
   ]
  },
  {
   "cell_type": "code",
   "execution_count": 12,
   "metadata": {
    "collapsed": false
   },
   "outputs": [
    {
     "data": {
      "text/plain": [
       "<seaborn.axisgrid.FacetGrid at 0x113d2a6d0>"
      ]
     },
     "execution_count": 12,
     "metadata": {},
     "output_type": "execute_result"
    },
    {
     "data": {
      "image/png": "[encoded data removed]",
      "text/plain": [
       "<matplotlib.figure.Figure at 0x113d37e90>"
      ]
     },
     "metadata": {},
     "output_type": "display_data"
    }
   ],
   "source": [
    "fig5 = sbn.factorplot(data=titanic_DF,kind='count',x='Sex',hue='Survived')\n",
    "fig5.set_axis_labels(\"Fig 5. Gender count (titanic_DF)\")"
   ]
  },
  {
   "cell_type": "markdown",
   "metadata": {},
   "source": [
    "**In both cases, gender certainly seems to be a good predictor.  So, I can ignore the rows containing 'Cabin' = NaN, i.e. use cabinNotNull_DF.**  \n",
    "\n",
    "Next is family data...  "
   ]
  },
  {
   "cell_type": "code",
   "execution_count": 13,
   "metadata": {
    "collapsed": false
   },
   "outputs": [
    {
     "data": {
      "text/plain": [
       "<seaborn.axisgrid.FacetGrid at 0x114703950>"
      ]
     },
     "execution_count": 13,
     "metadata": {},
     "output_type": "execute_result"
    },
    {
     "data": {
      "image/png": "[encoded data removed]",
      "text/plain": [
       "<matplotlib.figure.Figure at 0x114453ed0>"
      ]
     },
     "metadata": {},
     "output_type": "display_data"
    }
   ],
   "source": [
    "fig6 = sbn.factorplot(data=titanic_DF,kind='count',x='SibSp',palette='spring')\n",
    "fig6.set_axis_labels(\"Fig 6. Number of Siblings/Spouses Aboard\")"
   ]
  },
  {
   "cell_type": "code",
   "execution_count": 14,
   "metadata": {
    "collapsed": false
   },
   "outputs": [
    {
     "data": {
      "text/plain": [
       "<seaborn.axisgrid.FacetGrid at 0x113d0f710>"
      ]
     },
     "execution_count": 14,
     "metadata": {},
     "output_type": "execute_result"
    },
    {
     "data": {
      "image/png": "[encoded data removed]",
      "text/plain": [
       "<matplotlib.figure.Figure at 0x1148cf410>"
      ]
     },
     "metadata": {},
     "output_type": "display_data"
    }
   ],
   "source": [
    "fig7 = sbn.factorplot(data=titanic_DF,kind='count',x='Parch',palette='colorblind')\n",
    "fig7.set_axis_labels(\"Fig 7. Number of Parents/Children Aboard\")"
   ]
  },
  {
   "cell_type": "markdown",
   "metadata": {},
   "source": [
    "Ok, so there are more number of people traveling alone, compared to ones that are travelling with family.  For ease of use, I'll bin them into a new column titled **'Alone'**:"
   ]
  },
  {
   "cell_type": "code",
   "execution_count": 15,
   "metadata": {
    "collapsed": false
   },
   "outputs": [
    {
     "data": {
      "text/plain": [
       "<seaborn.axisgrid.FacetGrid at 0x107ea8c50>"
      ]
     },
     "execution_count": 15,
     "metadata": {},
     "output_type": "execute_result"
    },
    {
     "data": {
      "image/png": "[encoded data removed]",
      "text/plain": [
       "<matplotlib.figure.Figure at 0x107ea8cd0>"
      ]
     },
     "metadata": {},
     "output_type": "display_data"
    }
   ],
   "source": [
    "alone = []\n",
    "for Sib, Fam in zip(titanic_DF['SibSp'], titanic_DF['Parch']):\n",
    "    if Sib == 0 and Fam ==0 :\n",
    "        alone.append('1')\n",
    "    else:\n",
    "        alone.append('0')\n",
    "titanic_DF['Alone'] = alone\n",
    "fig8 = sbn.factorplot(data=titanic_DF,kind='count',x='Alone',hue='Survived',palette='Blues')\n",
    "fig8.set_axis_labels(\"Fig 8. Passengers travelling alone (titanicc_DF)\")"
   ]
  },
  {
   "cell_type": "markdown",
   "metadata": {},
   "source": [
    "**That's interesting! Passengers travelling alone seem to have a lower survival rate, compared to ones travelling with family.  So, this seems to be a good exploratory variable for the regression analysis.**  "
   ]
  },
  {
   "cell_type": "markdown",
   "metadata": {},
   "source": [
    "Now, I'm repeating the above exercise to insert 'Alone' into the cabinNotNull_DF Dataframe."
   ]
  },
  {
   "cell_type": "code",
   "execution_count": 16,
   "metadata": {
    "collapsed": false
   },
   "outputs": [
    {
     "data": {
      "text/plain": [
       "<seaborn.axisgrid.FacetGrid at 0x114cc92d0>"
      ]
     },
     "execution_count": 16,
     "metadata": {},
     "output_type": "execute_result"
    },
    {
     "data": {
      "image/png": "[encoded data removed]",
      "text/plain": [
       "<matplotlib.figure.Figure at 0x114cc9110>"
      ]
     },
     "metadata": {},
     "output_type": "display_data"
    }
   ],
   "source": [
    "alone = []\n",
    "for Sib, Fam in zip(cabinNotNull_DF['SibSp'], cabinNotNull_DF['Parch']):\n",
    "    if Sib == 0 and Fam ==0 :\n",
    "        alone.append('1')\n",
    "    else:\n",
    "        alone.append('0')\n",
    "cabinNotNull_DF['Alone'] = alone\n",
    "fig9 = sbn.factorplot(data=cabinNotNull_DF,kind='count',x='Alone',hue='Survived',palette='Blues')\n",
    "fig9.set_axis_labels(\"Fig 9. Passengers travelling alone (cabinNotNull_DF)\")"
   ]
  },
  {
   "cell_type": "markdown",
   "metadata": {},
   "source": [
    "This re-inforces the earlier statement."
   ]
  },
  {
   "cell_type": "markdown",
   "metadata": {},
   "source": [
    "And finally, the Age factor:"
   ]
  },
  {
   "cell_type": "code",
   "execution_count": 17,
   "metadata": {
    "collapsed": false
   },
   "outputs": [
    {
     "name": "stdout",
     "output_type": "stream",
     "text": [
      "<class 'pandas.core.frame.DataFrame'>\n",
      "Int64Index: 184 entries, 1 to 889\n",
      "Data columns (total 14 columns):\n",
      "PassengerId    184 non-null int64\n",
      "Survived       184 non-null int64\n",
      "Pclass         184 non-null int64\n",
      "Name           184 non-null object\n",
      "Sex            184 non-null object\n",
      "Age            184 non-null float64\n",
      "SibSp          184 non-null int64\n",
      "Parch          184 non-null int64\n",
      "Ticket         184 non-null object\n",
      "Fare           184 non-null float64\n",
      "Cabin          184 non-null object\n",
      "Embarked       182 non-null object\n",
      "CabinType      184 non-null object\n",
      "Alone          184 non-null object\n",
      "dtypes: float64(2), int64(5), object(7)\n",
      "memory usage: 21.6+ KB\n"
     ]
    }
   ],
   "source": [
    "cabinNotNull_DF = cabinNotNull_DF[pd.notnull(cabinNotNull_DF['Age'])]\n",
    "cabinNotNull_DF.info()"
   ]
  },
  {
   "cell_type": "markdown",
   "metadata": {},
   "source": [
    "Here's what the distribution looks like in the cabinNotNull_DF DataFrame:"
   ]
  },
  {
   "cell_type": "code",
   "execution_count": 18,
   "metadata": {
    "collapsed": false
   },
   "outputs": [
    {
     "data": {
      "text/plain": [
       "<seaborn.axisgrid.FacetGrid at 0x114cc9490>"
      ]
     },
     "execution_count": 18,
     "metadata": {},
     "output_type": "execute_result"
    },
    {
     "data": {
      "image/png": "[encoded data removed]",
      "text/plain": [
       "<matplotlib.figure.Figure at 0x114cc9210>"
      ]
     },
     "metadata": {},
     "output_type": "display_data"
    }
   ],
   "source": [
    "import matplotlib.pyplot as mp\n",
    "from scipy import stats\n",
    "import math\n",
    "fig10 = sbn.factorplot(data=cabinNotNull_DF,kind='count',x='Age',palette='summer',aspect=4)\n",
    "fig10.set_axis_labels(\"Fig 10. Age distribution (cabinNotNull_DF)\")"
   ]
  },
  {
   "cell_type": "markdown",
   "metadata": {},
   "source": [
    "Let's see if binning ages helps refine the picture.  Just like the process for 'Cabin', I am going to bin 'Age', and compare the survival rate for those silos.  The binning ranges are evident from the Python code."
   ]
  },
  {
   "cell_type": "code",
   "execution_count": 19,
   "metadata": {
    "collapsed": false
   },
   "outputs": [
    {
     "name": "stderr",
     "output_type": "stream",
     "text": [
      "/Users/rajeshgopalan/Library/Enthought/Canopy_64bit/User/lib/python2.7/site-packages/ipykernel/__main__.py:17: SettingWithCopyWarning: \n",
      "A value is trying to be set on a copy of a slice from a DataFrame.\n",
      "Try using .loc[row_indexer,col_indexer] = value instead\n",
      "\n",
      "See the caveats in the documentation: http://pandas.pydata.org/pandas-docs/stable/indexing.html#indexing-view-versus-copy\n"
     ]
    },
    {
     "data": {
      "text/plain": [
       "Thirties    50\n",
       "Twenties    36\n",
       "Fifties     32\n",
       "Forties     32\n",
       "Child       29\n",
       "Seniors      5\n",
       "dtype: int64"
      ]
     },
     "execution_count": 19,
     "metadata": {},
     "output_type": "execute_result"
    }
   ],
   "source": [
    "def age_to_silos(ageVal):\n",
    "    if ageVal  < 20 :\n",
    "        return \"Child\"\n",
    "    elif ageVal < 30 :\n",
    "        return \"Twenties\"\n",
    "    elif ageVal < 40 :\n",
    "        return \"Thirties\"\n",
    "    elif ageVal < 50 :\n",
    "        return \"Forties\"\n",
    "    elif ageVal < 65 :\n",
    "        return \"Fifties\"\n",
    "    else:\n",
    "        return \"Seniors\"\n",
    "AgeSilos = []\n",
    "for silos in cabinNotNull_DF['Age']:\n",
    "    AgeSilos.append(age_to_silos(silos))\n",
    "cabinNotNull_DF['AgeSilos'] = AgeSilos\n",
    "pd.value_counts(cabinNotNull_DF['AgeSilos'].values)"
   ]
  },
  {
   "cell_type": "markdown",
   "metadata": {},
   "source": [
    "Now to visualize the Age silos against the survivors."
   ]
  },
  {
   "cell_type": "code",
   "execution_count": 20,
   "metadata": {
    "collapsed": false
   },
   "outputs": [
    {
     "data": {
      "text/plain": [
       "<seaborn.axisgrid.FacetGrid at 0x114729e50>"
      ]
     },
     "execution_count": 20,
     "metadata": {},
     "output_type": "execute_result"
    },
    {
     "data": {
      "image/png": "[encoded data removed]",
      "text/plain": [
       "<matplotlib.figure.Figure at 0x114e93790>"
      ]
     },
     "metadata": {},
     "output_type": "display_data"
    }
   ],
   "source": [
    "fig11 = sbn.factorplot(data=cabinNotNull_DF,kind='count',x='AgeSilos',palette='colorblind',hue='Survived')\n",
    "fig11.set_axis_labels(\"Fig 11. AgeSilos vs. Survival (cabinNotNull_DF)\")"
   ]
  },
  {
   "cell_type": "markdown",
   "metadata": {},
   "source": [
    "Ok, 'Age' seems to be a good predictor of survival rate."
   ]
  },
  {
   "cell_type": "markdown",
   "metadata": {},
   "source": [
    "# Question (4) Where did passengers board the Titanic from and does the survival rate depend on the port of embarkment?"
   ]
  },
  {
   "cell_type": "code",
   "execution_count": 21,
   "metadata": {
    "collapsed": false
   },
   "outputs": [
    {
     "data": {
      "text/plain": [
       "S    644\n",
       "C    168\n",
       "Q     77\n",
       "dtype: int64"
      ]
     },
     "execution_count": 21,
     "metadata": {},
     "output_type": "execute_result"
    }
   ],
   "source": [
    "pd.value_counts(titanic_DF['Embarked'].values)"
   ]
  },
  {
   "cell_type": "markdown",
   "metadata": {},
   "source": [
    "There are three ports from which passegners boarded the ship.  Let's get a histogram of the survival rate of passengers from each of these ports."
   ]
  },
  {
   "cell_type": "code",
   "execution_count": 22,
   "metadata": {
    "collapsed": false
   },
   "outputs": [
    {
     "data": {
      "text/plain": [
       "<seaborn.axisgrid.FacetGrid at 0x11551f290>"
      ]
     },
     "execution_count": 22,
     "metadata": {},
     "output_type": "execute_result"
    },
    {
     "data": {
      "image/png": "[encoded data removed]",
      "text/plain": [
       "<matplotlib.figure.Figure at 0x1154b8c50>"
      ]
     },
     "metadata": {},
     "output_type": "display_data"
    }
   ],
   "source": [
    "fig12 = sbn.factorplot(data=titanic_DF,kind='count',x='Embarked',palette='winter', hue ='Survived')\n",
    "fig12.set_axis_labels(\"Fig 12. Port of embarkation vs. Survival (titanic_DF)\")"
   ]
  },
  {
   "cell_type": "markdown",
   "metadata": {},
   "source": [
    "Now, I'm repeating the above exercise to for the cabinNotNull_DF Dataframe."
   ]
  },
  {
   "cell_type": "code",
   "execution_count": 23,
   "metadata": {
    "collapsed": false
   },
   "outputs": [
    {
     "data": {
      "text/plain": [
       "<seaborn.axisgrid.FacetGrid at 0x115a3b390>"
      ]
     },
     "execution_count": 23,
     "metadata": {},
     "output_type": "execute_result"
    },
    {
     "data": {
      "image/png": "[encoded data removed]",
      "text/plain": [
       "<matplotlib.figure.Figure at 0x115a3b350>"
      ]
     },
     "metadata": {},
     "output_type": "display_data"
    }
   ],
   "source": [
    "fig13 = sbn.factorplot(data=cabinNotNull_DF,kind='count',x='Embarked',palette='winter', hue ='Survived')\n",
    "fig13.set_axis_labels(\"Fig 13. Port of embarkation vs. Survival (cabinNotNull_DF)\")"
   ]
  },
  {
   "cell_type": "markdown",
   "metadata": {},
   "source": [
    "**Ok, this indicates that port of embarkation should be a good predictor of survival rate.**  \n",
    "\n",
    "I have my four questions answered now.  Time to run a logistic regression on the following explorarory variables:  \n",
    "Age  \n",
    "Pclass  \n",
    "Alone  \n",
    "Sex  \n",
    "CabinType  \n",
    "Embarked  \n",
    "\n",
    "The target variable is 'Survived'.  "
   ]
  },
  {
   "cell_type": "markdown",
   "metadata": {},
   "source": [
    "Now, I will create 'Categorical' variables (dummies) for the explanatory variables that are non-numeric, giving them appropriate names so that I can run the regression and interpret the coefficients.  When creating dummies, I need to ensure that I remove one of the dummies from the list, so that I avoid multi-collinearity. "
   ]
  },
  {
   "cell_type": "code",
   "execution_count": 24,
   "metadata": {
    "collapsed": false
   },
   "outputs": [],
   "source": [
    "SexDummies = pd.get_dummies(cabinNotNull_DF['Sex'])\n",
    "CabinTypeDummies = pd.get_dummies(cabinNotNull_DF['CabinType'])\n",
    "EmbarkedDummies = pd.get_dummies(cabinNotNull_DF['Embarked'])\n",
    "CabinTypeDummies.columns = ['CabinA','CabinB','CabinC','CabinD','CabinE','CabinF','CabinG']\n",
    "CabinTypeDummies = CabinTypeDummies.drop('CabinA',axis=1)\n",
    "EmbarkedDummies.columns = ['EmbarkedC','EmbarkedQ','EmbarkedS']\n",
    "EmbarkedDummies = EmbarkedDummies.drop('EmbarkedS',axis=1)"
   ]
  },
  {
   "cell_type": "code",
   "execution_count": 25,
   "metadata": {
    "collapsed": false
   },
   "outputs": [
    {
     "data": {
      "text/html": [
       "<div>\n",
       "<table border=\"1\" class=\"dataframe\">\n",
       "  <thead>\n",
       "    <tr style=\"text-align: right;\">\n",
       "      <th></th>\n",
       "      <th>Survived</th>\n",
       "      <th>Pclass</th>\n",
       "      <th>Age</th>\n",
       "      <th>Alone</th>\n",
       "      <th>female</th>\n",
       "      <th>male</th>\n",
       "      <th>CabinB</th>\n",
       "      <th>CabinC</th>\n",
       "      <th>CabinD</th>\n",
       "      <th>CabinE</th>\n",
       "      <th>CabinF</th>\n",
       "      <th>CabinG</th>\n",
       "      <th>EmbarkedC</th>\n",
       "      <th>EmbarkedQ</th>\n",
       "    </tr>\n",
       "  </thead>\n",
       "  <tbody>\n",
       "    <tr>\n",
       "      <th>1</th>\n",
       "      <td>1</td>\n",
       "      <td>1</td>\n",
       "      <td>38</td>\n",
       "      <td>0</td>\n",
       "      <td>1</td>\n",
       "      <td>0</td>\n",
       "      <td>0</td>\n",
       "      <td>1</td>\n",
       "      <td>0</td>\n",
       "      <td>0</td>\n",
       "      <td>0</td>\n",
       "      <td>0</td>\n",
       "      <td>1</td>\n",
       "      <td>0</td>\n",
       "    </tr>\n",
       "    <tr>\n",
       "      <th>3</th>\n",
       "      <td>1</td>\n",
       "      <td>1</td>\n",
       "      <td>35</td>\n",
       "      <td>0</td>\n",
       "      <td>1</td>\n",
       "      <td>0</td>\n",
       "      <td>0</td>\n",
       "      <td>1</td>\n",
       "      <td>0</td>\n",
       "      <td>0</td>\n",
       "      <td>0</td>\n",
       "      <td>0</td>\n",
       "      <td>0</td>\n",
       "      <td>0</td>\n",
       "    </tr>\n",
       "    <tr>\n",
       "      <th>6</th>\n",
       "      <td>0</td>\n",
       "      <td>1</td>\n",
       "      <td>54</td>\n",
       "      <td>1</td>\n",
       "      <td>0</td>\n",
       "      <td>1</td>\n",
       "      <td>0</td>\n",
       "      <td>0</td>\n",
       "      <td>0</td>\n",
       "      <td>1</td>\n",
       "      <td>0</td>\n",
       "      <td>0</td>\n",
       "      <td>0</td>\n",
       "      <td>0</td>\n",
       "    </tr>\n",
       "    <tr>\n",
       "      <th>10</th>\n",
       "      <td>1</td>\n",
       "      <td>3</td>\n",
       "      <td>4</td>\n",
       "      <td>0</td>\n",
       "      <td>1</td>\n",
       "      <td>0</td>\n",
       "      <td>0</td>\n",
       "      <td>0</td>\n",
       "      <td>0</td>\n",
       "      <td>0</td>\n",
       "      <td>0</td>\n",
       "      <td>1</td>\n",
       "      <td>0</td>\n",
       "      <td>0</td>\n",
       "    </tr>\n",
       "    <tr>\n",
       "      <th>11</th>\n",
       "      <td>1</td>\n",
       "      <td>1</td>\n",
       "      <td>58</td>\n",
       "      <td>1</td>\n",
       "      <td>1</td>\n",
       "      <td>0</td>\n",
       "      <td>0</td>\n",
       "      <td>1</td>\n",
       "      <td>0</td>\n",
       "      <td>0</td>\n",
       "      <td>0</td>\n",
       "      <td>0</td>\n",
       "      <td>0</td>\n",
       "      <td>0</td>\n",
       "    </tr>\n",
       "  </tbody>\n",
       "</table>\n",
       "</div>"
      ],
      "text/plain": [
       "    Survived  Pclass  Age Alone  female  male  CabinB  CabinC  CabinD  CabinE  \\\n",
       "1          1       1   38     0       1     0       0       1       0       0   \n",
       "3          1       1   35     0       1     0       0       1       0       0   \n",
       "6          0       1   54     1       0     1       0       0       0       1   \n",
       "10         1       3    4     0       1     0       0       0       0       0   \n",
       "11         1       1   58     1       1     0       0       1       0       0   \n",
       "\n",
       "    CabinF  CabinG  EmbarkedC  EmbarkedQ  \n",
       "1        0       0          1          0  \n",
       "3        0       0          0          0  \n",
       "6        0       0          0          0  \n",
       "10       0       1          0          0  \n",
       "11       0       0          0          0  "
      ]
     },
     "execution_count": 25,
     "metadata": {},
     "output_type": "execute_result"
    }
   ],
   "source": [
    "Training_DF = cabinNotNull_DF.drop(['SibSp','PassengerId','Parch','Name','Ticket','Fare','CabinType','Sex','Embarked','Cabin','AgeSilos'],axis=1)\n",
    "Training_DF = pd.concat([Training_DF,SexDummies,CabinTypeDummies,EmbarkedDummies],axis=1)\n",
    "Training_DF.head()"
   ]
  },
  {
   "cell_type": "markdown",
   "metadata": {},
   "source": [
    "Ok, now the data frame is in a format that I can run logistic regression on!"
   ]
  },
  {
   "cell_type": "markdown",
   "metadata": {},
   "source": [
    "Lets separate the target variable from the predictor variables and put the target variable in an 'array' format as required by scikit."
   ]
  },
  {
   "cell_type": "code",
   "execution_count": 248,
   "metadata": {
    "collapsed": false
   },
   "outputs": [],
   "source": [
    "Y = np.ravel(Training_DF['Survived'])\n",
    "X = Training_DF.drop('Survived',axis=1)\n",
    "X['Age'] = X.Age.astype(int)"
   ]
  },
  {
   "cell_type": "code",
   "execution_count": 249,
   "metadata": {
    "collapsed": false
   },
   "outputs": [
    {
     "data": {
      "text/plain": [
       "0.80434782608695654"
      ]
     },
     "execution_count": 249,
     "metadata": {},
     "output_type": "execute_result"
    }
   ],
   "source": [
    "# Machine Learning Imports\n",
    "from sklearn.linear_model import LogisticRegression\n",
    "# For evaluating our ML results\n",
    "from sklearn import metrics\n",
    "\n",
    "glm_Training = LogisticRegression()\n",
    "glm_Training.fit(X,Y)\n",
    "glm_Training.score(X,Y)"
   ]
  },
  {
   "cell_type": "markdown",
   "metadata": {},
   "source": [
    "So, that's an 80% accuracy rating for the Logitic Regression model.\n",
    "How does this compare to a simple 'guess' of Survived = 0 for every passenger?\n",
    "I can get this by comparing the percentage of survivors in the training set, i.e. the mean of the survivors.  Technically, I'm check the \"null error rate\".  \n",
    "\n",
    "Now let's use statsmodels and rerun the logistic regression and get a summary of the result:"
   ]
  },
  {
   "cell_type": "code",
   "execution_count": 250,
   "metadata": {
    "collapsed": false
   },
   "outputs": [
    {
     "data": {
      "text/plain": [
       "0.67934782608695654"
      ]
     },
     "execution_count": 250,
     "metadata": {},
     "output_type": "execute_result"
    }
   ],
   "source": [
    "Y.mean()"
   ]
  },
  {
   "cell_type": "markdown",
   "metadata": {},
   "source": [
    "This means, if I had simply guessed \"Survived = 0\" for every pasenger, I would have had 1 - 0.68 = .32 or 32% accuracy.  So, the logistic model is already doing a much better job than my simplistic 'guess' model.  \n",
    "I'll now check the coefficients of my logistic model, to see the prediction strengths of the explanatory variables."
   ]
  },
  {
   "cell_type": "code",
   "execution_count": 255,
   "metadata": {
    "collapsed": false
   },
   "outputs": [
    {
     "data": {
      "text/html": [
       "<div>\n",
       "<table border=\"1\" class=\"dataframe\">\n",
       "  <thead>\n",
       "    <tr style=\"text-align: right;\">\n",
       "      <th></th>\n",
       "      <th>0</th>\n",
       "      <th>1</th>\n",
       "    </tr>\n",
       "  </thead>\n",
       "  <tbody>\n",
       "    <tr>\n",
       "      <th>0</th>\n",
       "      <td>Intercept</td>\n",
       "      <td>[1.44421966441]</td>\n",
       "    </tr>\n",
       "    <tr>\n",
       "      <th>1</th>\n",
       "      <td>Pclass</td>\n",
       "      <td>[-0.257145450058]</td>\n",
       "    </tr>\n",
       "    <tr>\n",
       "      <th>2</th>\n",
       "      <td>Age</td>\n",
       "      <td>[-0.0270082412089]</td>\n",
       "    </tr>\n",
       "    <tr>\n",
       "      <th>3</th>\n",
       "      <td>Alone</td>\n",
       "      <td>[-0.106201165284]</td>\n",
       "    </tr>\n",
       "    <tr>\n",
       "      <th>4</th>\n",
       "      <td>female</td>\n",
       "      <td>[2.03202098493]</td>\n",
       "    </tr>\n",
       "    <tr>\n",
       "      <th>5</th>\n",
       "      <td>male</td>\n",
       "      <td>[-0.587801320527]</td>\n",
       "    </tr>\n",
       "    <tr>\n",
       "      <th>6</th>\n",
       "      <td>CabinB</td>\n",
       "      <td>[0.235992830441]</td>\n",
       "    </tr>\n",
       "    <tr>\n",
       "      <th>7</th>\n",
       "      <td>CabinC</td>\n",
       "      <td>[-0.464262181352]</td>\n",
       "    </tr>\n",
       "    <tr>\n",
       "      <th>8</th>\n",
       "      <td>CabinD</td>\n",
       "      <td>[0.307634704877]</td>\n",
       "    </tr>\n",
       "    <tr>\n",
       "      <th>9</th>\n",
       "      <td>CabinE</td>\n",
       "      <td>[0.717813494371]</td>\n",
       "    </tr>\n",
       "    <tr>\n",
       "      <th>10</th>\n",
       "      <td>CabinF</td>\n",
       "      <td>[0.131340329491]</td>\n",
       "    </tr>\n",
       "    <tr>\n",
       "      <th>11</th>\n",
       "      <td>CabinG</td>\n",
       "      <td>[-1.07500259528]</td>\n",
       "    </tr>\n",
       "    <tr>\n",
       "      <th>12</th>\n",
       "      <td>EmbarkedC</td>\n",
       "      <td>[0.528259920894]</td>\n",
       "    </tr>\n",
       "    <tr>\n",
       "      <th>13</th>\n",
       "      <td>EmbarkedQ</td>\n",
       "      <td>[-0.095126515513]</td>\n",
       "    </tr>\n",
       "  </tbody>\n",
       "</table>\n",
       "</div>"
      ],
      "text/plain": [
       "            0                   1\n",
       "0   Intercept     [1.44421966441]\n",
       "1      Pclass   [-0.257145450058]\n",
       "2         Age  [-0.0270082412089]\n",
       "3       Alone   [-0.106201165284]\n",
       "4      female     [2.03202098493]\n",
       "5        male   [-0.587801320527]\n",
       "6      CabinB    [0.235992830441]\n",
       "7      CabinC   [-0.464262181352]\n",
       "8      CabinD    [0.307634704877]\n",
       "9      CabinE    [0.717813494371]\n",
       "10     CabinF    [0.131340329491]\n",
       "11     CabinG    [-1.07500259528]\n",
       "12  EmbarkedC    [0.528259920894]\n",
       "13  EmbarkedQ   [-0.095126515513]"
      ]
     },
     "execution_count": 255,
     "metadata": {},
     "output_type": "execute_result"
    }
   ],
   "source": [
    "glmCoeff_DF = DataFrame([['Intercept',glm_Training.intercept_]])\n",
    "glmCoeff_DF = glmCoeff_DF.append(DataFrame(zip(X.columns,np.transpose(glm_Training.coef_))),ignore_index=True)\n",
    "np.float64(glm_Training.intercept_)\n",
    "glmCoeff_DF"
   ]
  },
  {
   "cell_type": "markdown",
   "metadata": {},
   "source": [
    "Since this doesn't provide details of satistical significance of the coefficient, I am going to use statsmodels, rerun the logistic regression and get a summary of the result:"
   ]
  },
  {
   "cell_type": "code",
   "execution_count": 256,
   "metadata": {
    "collapsed": false
   },
   "outputs": [
    {
     "name": "stdout",
     "output_type": "stream",
     "text": [
      "Optimization terminated successfully.\n",
      "         Current function value: 0.402269\n",
      "         Iterations 7\n"
     ]
    },
    {
     "data": {
      "text/html": [
       "<table class=\"simpletable\">\n",
       "<caption>Logit Regression Results</caption>\n",
       "<tr>\n",
       "  <th>Dep. Variable:</th>     <td>Survived</td>     <th>  No. Observations:  </th>  <td>   184</td>  \n",
       "</tr>\n",
       "<tr>\n",
       "  <th>Model:</th>               <td>Logit</td>      <th>  Df Residuals:      </th>  <td>   171</td>  \n",
       "</tr>\n",
       "<tr>\n",
       "  <th>Method:</th>               <td>MLE</td>       <th>  Df Model:          </th>  <td>    12</td>  \n",
       "</tr>\n",
       "<tr>\n",
       "  <th>Date:</th>          <td>Sun, 14 Feb 2016</td> <th>  Pseudo R-squ.:     </th>  <td>0.3588</td>  \n",
       "</tr>\n",
       "<tr>\n",
       "  <th>Time:</th>              <td>11:42:25</td>     <th>  Log-Likelihood:    </th> <td> -74.018</td> \n",
       "</tr>\n",
       "<tr>\n",
       "  <th>converged:</th>           <td>True</td>       <th>  LL-Null:           </th> <td> -115.43</td> \n",
       "</tr>\n",
       "<tr>\n",
       "  <th> </th>                      <td> </td>        <th>  LLR p-value:       </th> <td>1.186e-12</td>\n",
       "</tr>\n",
       "</table>\n",
       "<table class=\"simpletable\">\n",
       "<tr>\n",
       "      <td></td>         <th>coef</th>     <th>std err</th>      <th>z</th>      <th>P>|z|</th> <th>[95.0% Conf. Int.]</th> \n",
       "</tr>\n",
       "<tr>\n",
       "  <th>Pclass</th>    <td>   -0.2732</td> <td>    0.665</td> <td>   -0.411</td> <td> 0.681</td> <td>   -1.576     1.029</td>\n",
       "</tr>\n",
       "<tr>\n",
       "  <th>Age</th>       <td>   -0.0432</td> <td>    0.015</td> <td>   -2.893</td> <td> 0.004</td> <td>   -0.072    -0.014</td>\n",
       "</tr>\n",
       "<tr>\n",
       "  <th>Alone</th>     <td>   -0.4212</td> <td>    0.461</td> <td>   -0.913</td> <td> 0.361</td> <td>   -1.325     0.483</td>\n",
       "</tr>\n",
       "<tr>\n",
       "  <th>female</th>    <td>    5.9958</td> <td>    1.395</td> <td>    4.300</td> <td> 0.000</td> <td>    3.263     8.729</td>\n",
       "</tr>\n",
       "<tr>\n",
       "  <th>male</th>      <td>    2.4908</td> <td>    1.220</td> <td>    2.041</td> <td> 0.041</td> <td>    0.099     4.882</td>\n",
       "</tr>\n",
       "<tr>\n",
       "  <th>CabinB</th>    <td>   -0.7032</td> <td>    0.818</td> <td>   -0.860</td> <td> 0.390</td> <td>   -2.306     0.899</td>\n",
       "</tr>\n",
       "<tr>\n",
       "  <th>CabinC</th>    <td>   -1.7025</td> <td>    0.837</td> <td>   -2.033</td> <td> 0.042</td> <td>   -3.344    -0.061</td>\n",
       "</tr>\n",
       "<tr>\n",
       "  <th>CabinD</th>    <td>   -0.6279</td> <td>    0.877</td> <td>   -0.716</td> <td> 0.474</td> <td>   -2.348     1.092</td>\n",
       "</tr>\n",
       "<tr>\n",
       "  <th>CabinE</th>    <td>    0.0743</td> <td>    0.879</td> <td>    0.084</td> <td> 0.933</td> <td>   -1.649     1.798</td>\n",
       "</tr>\n",
       "<tr>\n",
       "  <th>CabinF</th>    <td>   -1.0638</td> <td>    1.432</td> <td>   -0.743</td> <td> 0.458</td> <td>   -3.871     1.744</td>\n",
       "</tr>\n",
       "<tr>\n",
       "  <th>CabinG</th>    <td>   -4.5393</td> <td>    2.019</td> <td>   -2.248</td> <td> 0.025</td> <td>   -8.496    -0.582</td>\n",
       "</tr>\n",
       "<tr>\n",
       "  <th>EmbarkedC</th> <td>    0.4804</td> <td>    0.481</td> <td>    0.998</td> <td> 0.318</td> <td>   -0.463     1.424</td>\n",
       "</tr>\n",
       "<tr>\n",
       "  <th>EmbarkedQ</th> <td>   -0.6039</td> <td>    2.229</td> <td>   -0.271</td> <td> 0.786</td> <td>   -4.972     3.764</td>\n",
       "</tr>\n",
       "</table>"
      ],
      "text/plain": [
       "<class 'statsmodels.iolib.summary.Summary'>\n",
       "\"\"\"\n",
       "                           Logit Regression Results                           \n",
       "==============================================================================\n",
       "Dep. Variable:               Survived   No. Observations:                  184\n",
       "Model:                          Logit   Df Residuals:                      171\n",
       "Method:                           MLE   Df Model:                           12\n",
       "Date:                Sun, 14 Feb 2016   Pseudo R-squ.:                  0.3588\n",
       "Time:                        11:42:25   Log-Likelihood:                -74.018\n",
       "converged:                       True   LL-Null:                       -115.43\n",
       "                                        LLR p-value:                 1.186e-12\n",
       "==============================================================================\n",
       "                 coef    std err          z      P>|z|      [95.0% Conf. Int.]\n",
       "------------------------------------------------------------------------------\n",
       "Pclass        -0.2732      0.665     -0.411      0.681        -1.576     1.029\n",
       "Age           -0.0432      0.015     -2.893      0.004        -0.072    -0.014\n",
       "Alone         -0.4212      0.461     -0.913      0.361        -1.325     0.483\n",
       "female         5.9958      1.395      4.300      0.000         3.263     8.729\n",
       "male           2.4908      1.220      2.041      0.041         0.099     4.882\n",
       "CabinB        -0.7032      0.818     -0.860      0.390        -2.306     0.899\n",
       "CabinC        -1.7025      0.837     -2.033      0.042        -3.344    -0.061\n",
       "CabinD        -0.6279      0.877     -0.716      0.474        -2.348     1.092\n",
       "CabinE         0.0743      0.879      0.084      0.933        -1.649     1.798\n",
       "CabinF        -1.0638      1.432     -0.743      0.458        -3.871     1.744\n",
       "CabinG        -4.5393      2.019     -2.248      0.025        -8.496    -0.582\n",
       "EmbarkedC      0.4804      0.481      0.998      0.318        -0.463     1.424\n",
       "EmbarkedQ     -0.6039      2.229     -0.271      0.786        -4.972     3.764\n",
       "==============================================================================\n",
       "\"\"\""
      ]
     },
     "execution_count": 256,
     "metadata": {},
     "output_type": "execute_result"
    }
   ],
   "source": [
    "import statsmodels.api as sma\n",
    "\n",
    "Survived = np.int16(Training_DF['Survived'])\n",
    "X_array = np.int16(X)\n",
    "yName = 'Survived'\n",
    "xName = map(lambda X_columnNames: X_columnNames, X.columns)\n",
    "logit = sma.Logit(Survived,X_array)\n",
    "result = logit.fit()\n",
    "result.summary(yname=yName,xname=xName)"
   ]
  },
  {
   "cell_type": "markdown",
   "metadata": {},
   "source": [
    "Ok, now I'm going to run this model on the test data set that has been provided.  But, I will need to \"clean up\" the **test data set** and put it in a format similar to the **training data set**, for my model to work properly.  These steps are a repeat of what was done on the training data set:"
   ]
  },
  {
   "cell_type": "code",
   "execution_count": 257,
   "metadata": {
    "collapsed": false
   },
   "outputs": [],
   "source": [
    "titanic_test_DF = pd.read_csv(\"test.csv\")\n",
    "titanic_test_DF = DataFrame(titanic_test_DF[pd.notnull(titanic_test_DF['Cabin'])])\n",
    "cabinTypes = []\n",
    "for cabin in titanic_test_DF['Cabin']:\n",
    "    cabinTypes.append(cabin[0])\n",
    "titanic_test_DF['CabinType'] = cabinTypes\n",
    "alone = []\n",
    "for Sib, Fam in zip(titanic_test_DF['SibSp'], titanic_test_DF['Parch']):\n",
    "    if Sib == 0 and Fam ==0 :\n",
    "        alone.append('1')\n",
    "    else:\n",
    "        alone.append('0')\n",
    "titanic_test_DF['Alone'] = alone\n",
    "titanic_test_DF = titanic_test_DF[pd.notnull(titanic_test_DF['Age'])]\n",
    "SexDummies = pd.get_dummies(titanic_test_DF['Sex'])\n",
    "CabinTypeDummies = pd.get_dummies(titanic_test_DF['CabinType'])\n",
    "EmbarkedDummies = pd.get_dummies(titanic_test_DF['Embarked'])\n",
    "CabinTypeDummies.columns = ['CabinA','CabinB','CabinC','CabinD','CabinE','CabinF','CabinG']\n",
    "CabinTypeDummies = CabinTypeDummies.drop('CabinA',axis=1)\n",
    "EmbarkedDummies.columns = ['EmbarkedC','EmbarkedQ','EmbarkedS']\n",
    "EmbarkedDummies = EmbarkedDummies.drop('EmbarkedS',axis=1)\n",
    "Test_DF = titanic_test_DF.drop(['SibSp','PassengerId','Parch','Name','Ticket','Fare','CabinType','Sex','Embarked','Cabin'],axis=1)\n",
    "Test_DF = pd.concat([Test_DF,SexDummies,CabinTypeDummies,EmbarkedDummies],axis=1)\n",
    "X['Age'] = X.Age.astype(int)"
   ]
  },
  {
   "cell_type": "code",
   "execution_count": 258,
   "metadata": {
    "collapsed": true
   },
   "outputs": [],
   "source": [
    "Test_predict = glm_Training.predict(Test_DF)"
   ]
  },
  {
   "cell_type": "code",
   "execution_count": null,
   "metadata": {
    "collapsed": true
   },
   "outputs": [],
   "source": []
  }
 ],
 "metadata": {
  "kernelspec": {
   "display_name": "Python 2",
   "language": "python",
   "name": "python2"
  },
  "language_info": {
   "codemirror_mode": {
    "name": "ipython",
    "version": 2
   },
   "file_extension": ".py",
   "mimetype": "text/x-python",
   "name": "python",
   "nbconvert_exporter": "python",
   "pygments_lexer": "ipython2",
   "version": "2.7.10"
  }
 },
 "nbformat": 4,
 "nbformat_minor": 0
}
