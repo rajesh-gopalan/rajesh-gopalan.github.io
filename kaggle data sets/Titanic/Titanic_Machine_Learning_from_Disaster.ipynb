{
 "cells": [
  {
   "cell_type": "markdown",
   "metadata": {
    "collapsed": true
   },
   "source": [
    "*My method of attack on this challenge, is to utilize logistic regression to predict the attribution of relevant variables on the survival of the passsengers.  In order to come up with a list of potential variables that I can regress on, I need to better understand the dataset.*  \n",
    "In order to better understand the dataset, I'm going to read in the 'traning' set and do some exploratory analysis.  Let's go!  \n",
    "\n",
    "I will be using Python 2.7, and the pandas, numpy, matplotlib and seaborn libararies to perform my data analysis and prediction."
   ]
  },
  {
   "cell_type": "code",
   "execution_count": 802,
   "metadata": {
    "collapsed": true
   },
   "outputs": [],
   "source": [
    "# Import pandas library for rading in csv and analyzing data frames\n",
    "# Using 2-character names 'reduces' typing [yeah, I'm lazy! :) ]\n",
    "import pandas as pd\n",
    "from pandas import Series, DataFrame"
   ]
  },
  {
   "cell_type": "code",
   "execution_count": 803,
   "metadata": {
    "collapsed": true
   },
   "outputs": [],
   "source": [
    "titanic_DF = pd.read_csv(\"train.csv\")"
   ]
  },
  {
   "cell_type": "markdown",
   "metadata": {
    "collapsed": false
   },
   "source": [
    "What does the data look like?"
   ]
  },
  {
   "cell_type": "code",
   "execution_count": 804,
   "metadata": {
    "collapsed": false
   },
   "outputs": [
    {
     "data": {
      "text/html": [
       "<div>\n",
       "<table border=\"1\" class=\"dataframe\">\n",
       "  <thead>\n",
       "    <tr style=\"text-align: right;\">\n",
       "      <th></th>\n",
       "      <th>PassengerId</th>\n",
       "      <th>Survived</th>\n",
       "      <th>Pclass</th>\n",
       "      <th>Name</th>\n",
       "      <th>Sex</th>\n",
       "      <th>Age</th>\n",
       "      <th>SibSp</th>\n",
       "      <th>Parch</th>\n",
       "      <th>Ticket</th>\n",
       "      <th>Fare</th>\n",
       "      <th>Cabin</th>\n",
       "      <th>Embarked</th>\n",
       "    </tr>\n",
       "  </thead>\n",
       "  <tbody>\n",
       "    <tr>\n",
       "      <th>0</th>\n",
       "      <td>1</td>\n",
       "      <td>0</td>\n",
       "      <td>3</td>\n",
       "      <td>Braund, Mr. Owen Harris</td>\n",
       "      <td>male</td>\n",
       "      <td>22</td>\n",
       "      <td>1</td>\n",
       "      <td>0</td>\n",
       "      <td>A/5 21171</td>\n",
       "      <td>7.2500</td>\n",
       "      <td>NaN</td>\n",
       "      <td>S</td>\n",
       "    </tr>\n",
       "    <tr>\n",
       "      <th>1</th>\n",
       "      <td>2</td>\n",
       "      <td>1</td>\n",
       "      <td>1</td>\n",
       "      <td>Cumings, Mrs. John Bradley (Florence Briggs Th...</td>\n",
       "      <td>female</td>\n",
       "      <td>38</td>\n",
       "      <td>1</td>\n",
       "      <td>0</td>\n",
       "      <td>PC 17599</td>\n",
       "      <td>71.2833</td>\n",
       "      <td>C85</td>\n",
       "      <td>C</td>\n",
       "    </tr>\n",
       "    <tr>\n",
       "      <th>2</th>\n",
       "      <td>3</td>\n",
       "      <td>1</td>\n",
       "      <td>3</td>\n",
       "      <td>Heikkinen, Miss. Laina</td>\n",
       "      <td>female</td>\n",
       "      <td>26</td>\n",
       "      <td>0</td>\n",
       "      <td>0</td>\n",
       "      <td>STON/O2. 3101282</td>\n",
       "      <td>7.9250</td>\n",
       "      <td>NaN</td>\n",
       "      <td>S</td>\n",
       "    </tr>\n",
       "    <tr>\n",
       "      <th>3</th>\n",
       "      <td>4</td>\n",
       "      <td>1</td>\n",
       "      <td>1</td>\n",
       "      <td>Futrelle, Mrs. Jacques Heath (Lily May Peel)</td>\n",
       "      <td>female</td>\n",
       "      <td>35</td>\n",
       "      <td>1</td>\n",
       "      <td>0</td>\n",
       "      <td>113803</td>\n",
       "      <td>53.1000</td>\n",
       "      <td>C123</td>\n",
       "      <td>S</td>\n",
       "    </tr>\n",
       "    <tr>\n",
       "      <th>4</th>\n",
       "      <td>5</td>\n",
       "      <td>0</td>\n",
       "      <td>3</td>\n",
       "      <td>Allen, Mr. William Henry</td>\n",
       "      <td>male</td>\n",
       "      <td>35</td>\n",
       "      <td>0</td>\n",
       "      <td>0</td>\n",
       "      <td>373450</td>\n",
       "      <td>8.0500</td>\n",
       "      <td>NaN</td>\n",
       "      <td>S</td>\n",
       "    </tr>\n",
       "  </tbody>\n",
       "</table>\n",
       "</div>"
      ],
      "text/plain": [
       "   PassengerId  Survived  Pclass  \\\n",
       "0            1         0       3   \n",
       "1            2         1       1   \n",
       "2            3         1       3   \n",
       "3            4         1       1   \n",
       "4            5         0       3   \n",
       "\n",
       "                                                Name     Sex  Age  SibSp  \\\n",
       "0                            Braund, Mr. Owen Harris    male   22      1   \n",
       "1  Cumings, Mrs. John Bradley (Florence Briggs Th...  female   38      1   \n",
       "2                             Heikkinen, Miss. Laina  female   26      0   \n",
       "3       Futrelle, Mrs. Jacques Heath (Lily May Peel)  female   35      1   \n",
       "4                           Allen, Mr. William Henry    male   35      0   \n",
       "\n",
       "   Parch            Ticket     Fare Cabin Embarked  \n",
       "0      0         A/5 21171   7.2500   NaN        S  \n",
       "1      0          PC 17599  71.2833   C85        C  \n",
       "2      0  STON/O2. 3101282   7.9250   NaN        S  \n",
       "3      0            113803  53.1000  C123        S  \n",
       "4      0            373450   8.0500   NaN        S  "
      ]
     },
     "execution_count": 804,
     "metadata": {},
     "output_type": "execute_result"
    }
   ],
   "source": [
    "titanic_DF.head()"
   ]
  },
  {
   "cell_type": "markdown",
   "metadata": {},
   "source": [
    "Ok, so there are **12 features (columns)**.  Let's see some statistics for this data set."
   ]
  },
  {
   "cell_type": "code",
   "execution_count": 805,
   "metadata": {
    "collapsed": false
   },
   "outputs": [
    {
     "name": "stdout",
     "output_type": "stream",
     "text": [
      "<class 'pandas.core.frame.DataFrame'>\n",
      "Int64Index: 891 entries, 0 to 890\n",
      "Data columns (total 12 columns):\n",
      "PassengerId    891 non-null int64\n",
      "Survived       891 non-null int64\n",
      "Pclass         891 non-null int64\n",
      "Name           891 non-null object\n",
      "Sex            891 non-null object\n",
      "Age            714 non-null float64\n",
      "SibSp          891 non-null int64\n",
      "Parch          891 non-null int64\n",
      "Ticket         891 non-null object\n",
      "Fare           891 non-null float64\n",
      "Cabin          204 non-null object\n",
      "Embarked       889 non-null object\n",
      "dtypes: float64(2), int64(5), object(5)\n",
      "memory usage: 90.5+ KB\n"
     ]
    }
   ],
   "source": [
    "titanic_DF.info()"
   ]
  },
  {
   "cell_type": "markdown",
   "metadata": {},
   "source": [
    "Great!  So, there are **891** entries (rows) and **12** features (columns) per entry.  \n",
    "I can already see that there are a lot of unknown values (NaN) in the ***Cabin*** column, for example.  \n",
    "\n",
    "Now, for summary statistics of columns containing non-Null values:"
   ]
  },
  {
   "cell_type": "code",
   "execution_count": 806,
   "metadata": {
    "collapsed": false
   },
   "outputs": [
    {
     "data": {
      "text/html": [
       "<div>\n",
       "<table border=\"1\" class=\"dataframe\">\n",
       "  <thead>\n",
       "    <tr style=\"text-align: right;\">\n",
       "      <th></th>\n",
       "      <th>count</th>\n",
       "      <th>mean</th>\n",
       "      <th>std</th>\n",
       "      <th>min</th>\n",
       "      <th>25%</th>\n",
       "      <th>50%</th>\n",
       "      <th>75%</th>\n",
       "      <th>max</th>\n",
       "    </tr>\n",
       "  </thead>\n",
       "  <tbody>\n",
       "    <tr>\n",
       "      <th>PassengerId</th>\n",
       "      <td>891</td>\n",
       "      <td>446.000000</td>\n",
       "      <td>257.353842</td>\n",
       "      <td>1.00</td>\n",
       "      <td>223.5000</td>\n",
       "      <td>446.0000</td>\n",
       "      <td>668.5</td>\n",
       "      <td>891.0000</td>\n",
       "    </tr>\n",
       "    <tr>\n",
       "      <th>Survived</th>\n",
       "      <td>891</td>\n",
       "      <td>0.383838</td>\n",
       "      <td>0.486592</td>\n",
       "      <td>0.00</td>\n",
       "      <td>0.0000</td>\n",
       "      <td>0.0000</td>\n",
       "      <td>1.0</td>\n",
       "      <td>1.0000</td>\n",
       "    </tr>\n",
       "    <tr>\n",
       "      <th>Pclass</th>\n",
       "      <td>891</td>\n",
       "      <td>2.308642</td>\n",
       "      <td>0.836071</td>\n",
       "      <td>1.00</td>\n",
       "      <td>2.0000</td>\n",
       "      <td>3.0000</td>\n",
       "      <td>3.0</td>\n",
       "      <td>3.0000</td>\n",
       "    </tr>\n",
       "    <tr>\n",
       "      <th>Age</th>\n",
       "      <td>714</td>\n",
       "      <td>29.699118</td>\n",
       "      <td>14.526497</td>\n",
       "      <td>0.42</td>\n",
       "      <td>20.1250</td>\n",
       "      <td>28.0000</td>\n",
       "      <td>38.0</td>\n",
       "      <td>80.0000</td>\n",
       "    </tr>\n",
       "    <tr>\n",
       "      <th>SibSp</th>\n",
       "      <td>891</td>\n",
       "      <td>0.523008</td>\n",
       "      <td>1.102743</td>\n",
       "      <td>0.00</td>\n",
       "      <td>0.0000</td>\n",
       "      <td>0.0000</td>\n",
       "      <td>1.0</td>\n",
       "      <td>8.0000</td>\n",
       "    </tr>\n",
       "    <tr>\n",
       "      <th>Parch</th>\n",
       "      <td>891</td>\n",
       "      <td>0.381594</td>\n",
       "      <td>0.806057</td>\n",
       "      <td>0.00</td>\n",
       "      <td>0.0000</td>\n",
       "      <td>0.0000</td>\n",
       "      <td>0.0</td>\n",
       "      <td>6.0000</td>\n",
       "    </tr>\n",
       "    <tr>\n",
       "      <th>Fare</th>\n",
       "      <td>891</td>\n",
       "      <td>32.204208</td>\n",
       "      <td>49.693429</td>\n",
       "      <td>0.00</td>\n",
       "      <td>7.9104</td>\n",
       "      <td>14.4542</td>\n",
       "      <td>31.0</td>\n",
       "      <td>512.3292</td>\n",
       "    </tr>\n",
       "  </tbody>\n",
       "</table>\n",
       "</div>"
      ],
      "text/plain": [
       "             count        mean         std   min       25%       50%    75%  \\\n",
       "PassengerId    891  446.000000  257.353842  1.00  223.5000  446.0000  668.5   \n",
       "Survived       891    0.383838    0.486592  0.00    0.0000    0.0000    1.0   \n",
       "Pclass         891    2.308642    0.836071  1.00    2.0000    3.0000    3.0   \n",
       "Age            714   29.699118   14.526497  0.42   20.1250   28.0000   38.0   \n",
       "SibSp          891    0.523008    1.102743  0.00    0.0000    0.0000    1.0   \n",
       "Parch          891    0.381594    0.806057  0.00    0.0000    0.0000    0.0   \n",
       "Fare           891   32.204208   49.693429  0.00    7.9104   14.4542   31.0   \n",
       "\n",
       "                  max  \n",
       "PassengerId  891.0000  \n",
       "Survived       1.0000  \n",
       "Pclass         3.0000  \n",
       "Age           80.0000  \n",
       "SibSp          8.0000  \n",
       "Parch          6.0000  \n",
       "Fare         512.3292  "
      ]
     },
     "execution_count": 806,
     "metadata": {},
     "output_type": "execute_result"
    }
   ],
   "source": [
    "titanic_DF.describe().transpose()"
   ]
  },
  {
   "cell_type": "markdown",
   "metadata": {},
   "source": [
    "**Observations**:\n",
    "* 891 passengers in total.\n",
    "* The survival rate is ~38%.\n",
    "* A mix of age groups from infants to seniors.\n",
    "* Hmm, some 'free' fares showing up, and also a very high value of ~512.\n",
    "* 'Cabin' seems to be missing from the summary, indicating that it it results are thrown away."
   ]
  },
  {
   "cell_type": "markdown",
   "metadata": {},
   "source": [
    "Before I start the regression analysis, I need to find  some of the exploratory variables in the data set that could provide a good indication of the survival rates.  \n",
    "\n",
    "At this point, I'd like to start looking at what the data is telling me.  Questions that pop to my mind are:  \n",
    "(1) Do passenger Id, tickets, fares and names have anything to do with survival rate?  \n",
    "(2) Can I ignore cabins, since there are so few \"valid\" data points related to cabins?  How are cabins and Pclass related to survival rate?  \n",
    "(3) How does the demography data such as Gender, Family, Socio-Economic-Status (SES), Age relate to survival rate?  \n",
    "(4) Where did passengers board the Titanic from and does the survival rate depend on the port of embarkment?  "
   ]
  },
  {
   "cell_type": "markdown",
   "metadata": {},
   "source": [
    "# Question (1) Do tickets, fares and names have anything to do with survival rate?  \n",
    "***PassengerId***, ***Fare*** and ***Ticket*** (number) can safely be ignored for the analysis, since they don't seem to be providing much value except for book-keeping purposes.  \n",
    "The same thought process can be applied to remove ***Name*** from the list of usual suspects for the analysis as well.    "
   ]
  },
  {
   "cell_type": "markdown",
   "metadata": {},
   "source": [
    "# **Question (2) Can I ignore cabins, since there are so few \"valid\" data related to cabins?  How are Cabin and Pclass (SES), Age related to survival rate**?  \n",
    "Sub-question: Can I get a distribution of unknowns in the Cabin column?"
   ]
  },
  {
   "cell_type": "code",
   "execution_count": 807,
   "metadata": {
    "collapsed": false
   },
   "outputs": [],
   "source": [
    "# Import libraries for data analysis and visualization\n",
    "import numpy as np\n",
    "import seaborn as sbn\n",
    "%matplotlib inline"
   ]
  },
  {
   "cell_type": "code",
   "execution_count": 808,
   "metadata": {
    "collapsed": false
   },
   "outputs": [
    {
     "data": {
      "text/plain": [
       "<seaborn.axisgrid.FacetGrid at 0x12828e190>"
      ]
     },
     "execution_count": 808,
     "metadata": {},
     "output_type": "execute_result"
    },
    {
     "data": {
      "image/png": "[encoded data removed]",
      "text/plain": [
       "<matplotlib.figure.Figure at 0x11a747150>"
      ]
     },
     "metadata": {},
     "output_type": "display_data"
    }
   ],
   "source": [
    "# sbn.factorplot(data=titanic_DF,kind='count',y='Pclass')\n",
    "cabinNull_DF = pd.DataFrame(titanic_DF[pd.isnull(titanic_DF['Cabin'])])\n",
    "fig1 = sbn.factorplot(data=cabinNull_DF,kind='count',x='Pclass')\n",
    "fig1.set_axis_labels(\"Fig1. 'Pclass' vs 'NaN' Cabin count\",\"'NaN' Cabin count\")"
   ]
  },
  {
   "cell_type": "markdown",
   "metadata": {
    "collapsed": true
   },
   "source": [
    "So, it is evident from **Fig1.** that most of the unknown cabin information pertains to the 3rd SES (socio-economic status).\n",
    "\n",
    "The cabin numbers are a combination of an alphabet followed by one or more numbers.  To make it simpler to 'bin' the cabins, I'll retrieve the cabin alphabets for each of the valid cabins in the data set (cabinNotNull_DF)."
   ]
  },
  {
   "cell_type": "code",
   "execution_count": 809,
   "metadata": {
    "collapsed": false
   },
   "outputs": [
    {
     "data": {
      "text/plain": [
       "C    59\n",
       "B    47\n",
       "D    33\n",
       "E    32\n",
       "A    15\n",
       "F    13\n",
       "G     4\n",
       "T     1\n",
       "dtype: int64"
      ]
     },
     "execution_count": 809,
     "metadata": {},
     "output_type": "execute_result"
    }
   ],
   "source": [
    "cabinNotNull_DF = pd.DataFrame(titanic_DF[pd.notnull(titanic_DF['Cabin'])])\n",
    "cabinTypes = []\n",
    "for cabin in cabinNotNull_DF['Cabin']:\n",
    "    cabinTypes.append(cabin[0])\n",
    "cabinNotNull_DF['CabinType'] = cabinTypes\n",
    "pd.value_counts(cabinNotNull_DF['CabinType'].values)"
   ]
  },
  {
   "cell_type": "markdown",
   "metadata": {},
   "source": [
    "**Hmm, there seems to be an odd cabin of type 'T' (perhaps due to a clerical data entry?).  I'll ignore that row for now.**"
   ]
  },
  {
   "cell_type": "code",
   "execution_count": 810,
   "metadata": {
    "collapsed": false
   },
   "outputs": [
    {
     "data": {
      "text/plain": [
       "C    59\n",
       "B    47\n",
       "D    33\n",
       "E    32\n",
       "A    15\n",
       "F    13\n",
       "G     4\n",
       "dtype: int64"
      ]
     },
     "execution_count": 810,
     "metadata": {},
     "output_type": "execute_result"
    }
   ],
   "source": [
    "cabinNotNull_DF = cabinNotNull_DF[cabinNotNull_DF['CabinType'] != 'T']\n",
    "pd.value_counts(cabinNotNull_DF['CabinType'].values)"
   ]
  },
  {
   "cell_type": "code",
   "execution_count": 811,
   "metadata": {
    "collapsed": false
   },
   "outputs": [
    {
     "data": {
      "text/plain": [
       "<seaborn.axisgrid.FacetGrid at 0x12935f090>"
      ]
     },
     "execution_count": 811,
     "metadata": {},
     "output_type": "execute_result"
    },
    {
     "data": {
      "image/png": "[encoded data removed]",
      "text/plain": [
       "<matplotlib.figure.Figure at 0x128c49890>"
      ]
     },
     "metadata": {},
     "output_type": "display_data"
    },
    {
     "data": {
      "image/png": "[encoded data removed]",
      "text/plain": [
       "<matplotlib.figure.Figure at 0x129692810>"
      ]
     },
     "metadata": {},
     "output_type": "display_data"
    }
   ],
   "source": [
    "fig2 = sbn.factorplot(data=cabinNotNull_DF,kind='count',hue='Survived',x='CabinType',legend_out=True)\n",
    "fig2.set_axis_labels(\"Fig 2. 'CabinType'\",'Count of survivors')\n",
    "fig3 = sbn.factorplot(data=cabinNotNull_DF,kind='count',hue='Survived',x='Pclass',legend_out=True)\n",
    "fig3.set_axis_labels(\"Fig 3. 'Pclass'\",'Count of survivors')"
   ]
  },
  {
   "cell_type": "markdown",
   "metadata": {},
   "source": [
    "So, based on **Fig 2.** and **Fig 3.**, we can see that Cabin and SES are certainly good indicators of survivors.  So, I choose to keep **'CabinType'** and **'Pclass'** as potential indicators of survival rate and continue the explorartory analysis."
   ]
  },
  {
   "cell_type": "markdown",
   "metadata": {},
   "source": [
    "# **Question (3) How does the demography data (Gender, Family) look?**"
   ]
  },
  {
   "cell_type": "markdown",
   "metadata": {},
   "source": [
    "Now, I'll look at whether 'Gender' in the cabinNotNull_DF data set is a good indicator of survival and compare that with 'Gender' vs. 'Survived' in the original (titanic_DF) data set."
   ]
  },
  {
   "cell_type": "code",
   "execution_count": 812,
   "metadata": {
    "collapsed": false
   },
   "outputs": [
    {
     "data": {
      "text/plain": [
       "<seaborn.axisgrid.FacetGrid at 0x129244690>"
      ]
     },
     "execution_count": 812,
     "metadata": {},
     "output_type": "execute_result"
    },
    {
     "data": {
      "image/png": "[encoded data removed]",
      "text/plain": [
       "<matplotlib.figure.Figure at 0x129251610>"
      ]
     },
     "metadata": {},
     "output_type": "display_data"
    }
   ],
   "source": [
    "fig4 = sbn.factorplot(data=cabinNotNull_DF,kind='count',x='Sex',hue='Survived')\n",
    "fig4.set_axis_labels(\"Fig 4. Gender count (cabinNotNull_DF)\")"
   ]
  },
  {
   "cell_type": "code",
   "execution_count": 813,
   "metadata": {
    "collapsed": false
   },
   "outputs": [
    {
     "data": {
      "text/plain": [
       "<seaborn.axisgrid.FacetGrid at 0x129251450>"
      ]
     },
     "execution_count": 813,
     "metadata": {},
     "output_type": "execute_result"
    },
    {
     "data": {
      "image/png": "[encoded data removed]",
      "text/plain": [
       "<matplotlib.figure.Figure at 0x129251550>"
      ]
     },
     "metadata": {},
     "output_type": "display_data"
    }
   ],
   "source": [
    "fig5 = sbn.factorplot(data=titanic_DF,kind='count',x='Sex',hue='Survived')\n",
    "fig5.set_axis_labels(\"Fig 5. Gender count (titanic_DF)\")"
   ]
  },
  {
   "cell_type": "markdown",
   "metadata": {},
   "source": [
    "**In both cases, gender certainly seems to be a good predictor.  So, I can ignore the rows containing 'Cabin' = NaN, i.e. use cabinNotNull_DF.**  \n",
    "\n",
    "Next is family data...  "
   ]
  },
  {
   "cell_type": "code",
   "execution_count": 814,
   "metadata": {
    "collapsed": false
   },
   "outputs": [
    {
     "data": {
      "text/plain": [
       "<seaborn.axisgrid.FacetGrid at 0x12a2ad190>"
      ]
     },
     "execution_count": 814,
     "metadata": {},
     "output_type": "execute_result"
    },
    {
     "data": {
      "image/png": "[encoded data removed]",
      "text/plain": [
       "<matplotlib.figure.Figure at 0x12936a590>"
      ]
     },
     "metadata": {},
     "output_type": "display_data"
    }
   ],
   "source": [
    "fig6 = sbn.factorplot(data=titanic_DF,kind='count',x='SibSp',palette='spring')\n",
    "fig6.set_axis_labels(\"Fig 6. Number of Siblings/Spouses Aboard\")"
   ]
  },
  {
   "cell_type": "code",
   "execution_count": 815,
   "metadata": {
    "collapsed": false
   },
   "outputs": [
    {
     "data": {
      "text/plain": [
       "<seaborn.axisgrid.FacetGrid at 0x12a1b8950>"
      ]
     },
     "execution_count": 815,
     "metadata": {},
     "output_type": "execute_result"
    },
    {
     "data": {
      "image/png": "[encoded data removed]",
      "text/plain": [
       "<matplotlib.figure.Figure at 0x124a01fd0>"
      ]
     },
     "metadata": {},
     "output_type": "display_data"
    }
   ],
   "source": [
    "fig7 = sbn.factorplot(data=titanic_DF,kind='count',x='Parch',palette='colorblind')\n",
    "fig7.set_axis_labels(\"Fig 7. Number of Parents/Children Aboard\")"
   ]
  },
  {
   "cell_type": "markdown",
   "metadata": {},
   "source": [
    "Ok, so there are more number of people traveling alone, compared to ones that are travelling with family.  For ease of use, I'll bin them into a new column titled **'Alone'**:"
   ]
  },
  {
   "cell_type": "code",
   "execution_count": 816,
   "metadata": {
    "collapsed": false
   },
   "outputs": [
    {
     "data": {
      "text/plain": [
       "<seaborn.axisgrid.FacetGrid at 0x1291edad0>"
      ]
     },
     "execution_count": 816,
     "metadata": {},
     "output_type": "execute_result"
    },
    {
     "data": {
      "image/png": "[encoded data removed]",
      "text/plain": [
       "<matplotlib.figure.Figure at 0x1291edb50>"
      ]
     },
     "metadata": {},
     "output_type": "display_data"
    }
   ],
   "source": [
    "alone = []\n",
    "for Sib, Fam in zip(titanic_DF['SibSp'], titanic_DF['Parch']):\n",
    "    if Sib == 0 and Fam ==0 :\n",
    "        alone.append('1')\n",
    "    else:\n",
    "        alone.append('0')\n",
    "titanic_DF['Alone'] = alone\n",
    "fig8 = sbn.factorplot(data=titanic_DF,kind='count',x='Alone',hue='Survived',palette='Blues')\n",
    "fig8.set_axis_labels(\"Fig 8. Passengers travelling alone (titanicc_DF)\")"
   ]
  },
  {
   "cell_type": "markdown",
   "metadata": {},
   "source": [
    "**That's interesting! Passengers travelling alone seem to have a lower survival rate, compared to ones travelling with family.  So, this seems to be a good exploratory variable for the regression analysis.**  "
   ]
  },
  {
   "cell_type": "markdown",
   "metadata": {},
   "source": [
    "Now, I'm repeating the above exercise to insert 'Alone' into the cabinNotNull_DF Dataframe."
   ]
  },
  {
   "cell_type": "code",
   "execution_count": 817,
   "metadata": {
    "collapsed": false
   },
   "outputs": [
    {
     "data": {
      "text/plain": [
       "<seaborn.axisgrid.FacetGrid at 0x12aa6d210>"
      ]
     },
     "execution_count": 817,
     "metadata": {},
     "output_type": "execute_result"
    },
    {
     "data": {
      "image/png": "[encoded data removed]",
      "text/plain": [
       "<matplotlib.figure.Figure at 0x12aa6d250>"
      ]
     },
     "metadata": {},
     "output_type": "display_data"
    }
   ],
   "source": [
    "alone = []\n",
    "for Sib, Fam in zip(cabinNotNull_DF['SibSp'], cabinNotNull_DF['Parch']):\n",
    "    if Sib == 0 and Fam ==0 :\n",
    "        alone.append('1')\n",
    "    else:\n",
    "        alone.append('0')\n",
    "cabinNotNull_DF['Alone'] = alone\n",
    "fig9 = sbn.factorplot(data=cabinNotNull_DF,kind='count',x='Alone',hue='Survived',palette='Blues')\n",
    "fig9.set_axis_labels(\"Fig 9. Passengers travelling alone (cabinNotNull_DF)\")"
   ]
  },
  {
   "cell_type": "markdown",
   "metadata": {},
   "source": [
    "This re-inforces the earlier statement."
   ]
  },
  {
   "cell_type": "markdown",
   "metadata": {},
   "source": [
    "And finally, the Age factor:"
   ]
  },
  {
   "cell_type": "code",
   "execution_count": 818,
   "metadata": {
    "collapsed": false
   },
   "outputs": [],
   "source": [
    "cabinNotNull_DF = cabinNotNull_DF[pd.notnull(cabinNotNull_DF['Age'])]\n",
    "cabinNotNull_DF = cabinNotNull_DF[pd.notnull(cabinNotNull_DF['Embarked'])]"
   ]
  },
  {
   "cell_type": "markdown",
   "metadata": {},
   "source": [
    "Here's what the distribution looks like in the cabinNotNull_DF DataFrame:"
   ]
  },
  {
   "cell_type": "code",
   "execution_count": 819,
   "metadata": {
    "collapsed": false
   },
   "outputs": [
    {
     "data": {
      "text/plain": [
       "<seaborn.axisgrid.FacetGrid at 0x12a980050>"
      ]
     },
     "execution_count": 819,
     "metadata": {},
     "output_type": "execute_result"
    },
    {
     "data": {
      "image/png": "[encoded data removed]",
      "text/plain": [
       "<matplotlib.figure.Figure at 0x12a85f9d0>"
      ]
     },
     "metadata": {},
     "output_type": "display_data"
    }
   ],
   "source": [
    "import matplotlib.pyplot as mp\n",
    "from scipy import stats\n",
    "import math\n",
    "fig10 = sbn.factorplot(data=cabinNotNull_DF,kind='count',x='Age',palette='summer',aspect=4)\n",
    "fig10.set_axis_labels(\"Fig 10. Age distribution (cabinNotNull_DF)\")"
   ]
  },
  {
   "cell_type": "markdown",
   "metadata": {},
   "source": [
    "Let's see if binning ages helps refine the picture.  Just like the process for 'Cabin', I am going to bin 'Age', and compare the survival rate for those silos.  The binning ranges are evident from the Python code."
   ]
  },
  {
   "cell_type": "code",
   "execution_count": 820,
   "metadata": {
    "collapsed": false
   },
   "outputs": [
    {
     "data": {
      "text/plain": [
       "Twenties    53\n",
       "Thirties    49\n",
       "Forties     32\n",
       "Fifties     24\n",
       "Child       12\n",
       "Seniors     12\n",
       "dtype: int64"
      ]
     },
     "execution_count": 820,
     "metadata": {},
     "output_type": "execute_result"
    }
   ],
   "source": [
    "def age_to_silos(ageVal):\n",
    "    if ageVal  < 15 :\n",
    "        return \"Child\"\n",
    "    elif ageVal < 30 :\n",
    "        return \"Twenties\"\n",
    "    elif ageVal < 40 :\n",
    "        return \"Thirties\"\n",
    "    elif ageVal < 50 :\n",
    "        return \"Forties\"\n",
    "    elif ageVal < 60 :\n",
    "        return \"Fifties\"\n",
    "    else:\n",
    "        return \"Seniors\"\n",
    "AgeSilos = []\n",
    "for ageVal in cabinNotNull_DF['Age']:\n",
    "    AgeSilos.append(age_to_silos(ageVal))\n",
    "cabinNotNull_DF['AgeSilos'] = AgeSilos\n",
    "pd.value_counts(cabinNotNull_DF['AgeSilos'].values)"
   ]
  },
  {
   "cell_type": "markdown",
   "metadata": {},
   "source": [
    "Now to visualize the Age silos against the survivors."
   ]
  },
  {
   "cell_type": "code",
   "execution_count": 821,
   "metadata": {
    "collapsed": false
   },
   "outputs": [
    {
     "data": {
      "text/plain": [
       "<seaborn.axisgrid.FacetGrid at 0x12a7d67d0>"
      ]
     },
     "execution_count": 821,
     "metadata": {},
     "output_type": "execute_result"
    },
    {
     "data": {
      "image/png": "[encoded data removed]",
      "text/plain": [
       "<matplotlib.figure.Figure at 0x1271ac950>"
      ]
     },
     "metadata": {},
     "output_type": "display_data"
    }
   ],
   "source": [
    "fig11 = sbn.factorplot(data=cabinNotNull_DF,kind='count',x='AgeSilos',palette='colorblind',hue='Survived')\n",
    "fig11.set_axis_labels(\"Fig 11. AgeSilos vs. Survival (cabinNotNull_DF)\")"
   ]
  },
  {
   "cell_type": "markdown",
   "metadata": {},
   "source": [
    "Ok, 'Age' seems to be a good predictor of survival rate."
   ]
  },
  {
   "cell_type": "markdown",
   "metadata": {},
   "source": [
    "# Question (4) Where did passengers board the Titanic from and does the survival rate depend on the port of embarkment?"
   ]
  },
  {
   "cell_type": "code",
   "execution_count": 822,
   "metadata": {
    "collapsed": false
   },
   "outputs": [
    {
     "data": {
      "text/plain": [
       "S    644\n",
       "C    168\n",
       "Q     77\n",
       "dtype: int64"
      ]
     },
     "execution_count": 822,
     "metadata": {},
     "output_type": "execute_result"
    }
   ],
   "source": [
    "pd.value_counts(titanic_DF['Embarked'].values)"
   ]
  },
  {
   "cell_type": "markdown",
   "metadata": {},
   "source": [
    "There are three ports from which passegners boarded the ship.  Let's get a histogram of the survival rate of passengers from each of these ports."
   ]
  },
  {
   "cell_type": "code",
   "execution_count": 823,
   "metadata": {
    "collapsed": false
   },
   "outputs": [
    {
     "data": {
      "text/plain": [
       "<seaborn.axisgrid.FacetGrid at 0x128cb5c90>"
      ]
     },
     "execution_count": 823,
     "metadata": {},
     "output_type": "execute_result"
    },
    {
     "data": {
      "image/png": "[encoded data removed]",
      "text/plain": [
       "<matplotlib.figure.Figure at 0x128f02350>"
      ]
     },
     "metadata": {},
     "output_type": "display_data"
    }
   ],
   "source": [
    "fig12 = sbn.factorplot(data=titanic_DF,kind='count',x='Embarked',palette='winter', hue ='Survived')\n",
    "fig12.set_axis_labels(\"Fig 12. Port of embarkation vs. Survival (titanic_DF)\")"
   ]
  },
  {
   "cell_type": "markdown",
   "metadata": {},
   "source": [
    "Now, I'm repeating the above exercise to for the cabinNotNull_DF Dataframe."
   ]
  },
  {
   "cell_type": "code",
   "execution_count": 824,
   "metadata": {
    "collapsed": false
   },
   "outputs": [
    {
     "data": {
      "text/plain": [
       "<seaborn.axisgrid.FacetGrid at 0x128f02190>"
      ]
     },
     "execution_count": 824,
     "metadata": {},
     "output_type": "execute_result"
    },
    {
     "data": {
      "image/png": "[encoded data removed]",
      "text/plain": [
       "<matplotlib.figure.Figure at 0x12a7d6fd0>"
      ]
     },
     "metadata": {},
     "output_type": "display_data"
    }
   ],
   "source": [
    "fig13 = sbn.factorplot(data=cabinNotNull_DF,kind='count',x='Embarked',palette='winter', hue ='Survived')\n",
    "fig13.set_axis_labels(\"Fig 13. Port of embarkation vs. Survival (cabinNotNull_DF)\")"
   ]
  },
  {
   "cell_type": "markdown",
   "metadata": {},
   "source": [
    "**Ok, this indicates that port of embarkation should be a good predictor of survival rate.**  \n",
    "\n",
    "I have my four questions answered now.  Time to run a logistic regression on the following explorarory variables:  \n",
    "Age  \n",
    "Pclass  \n",
    "Alone  \n",
    "Sex  \n",
    "CabinType  \n",
    "Embarked  \n",
    "\n",
    "The target variable is 'Survived'.  "
   ]
  },
  {
   "cell_type": "markdown",
   "metadata": {},
   "source": [
    "Now, I will create 'Categorical' variables (dummies) for the explanatory variables that are non-numeric, giving them appropriate names so that I can run the regression and interpret the coefficients.  When creating dummies, I need to ensure that I remove one of the dummies from the list, so that I avoid multi-collinearity. "
   ]
  },
  {
   "cell_type": "code",
   "execution_count": 825,
   "metadata": {
    "collapsed": false
   },
   "outputs": [],
   "source": [
    "SexDummies = pd.get_dummies(cabinNotNull_DF['Sex'])\n",
    "SexDummies = SexDummies.drop('male',axis=1)\n",
    "AgeDummies = pd.get_dummies(cabinNotNull_DF['AgeSilos'])\n",
    "AgeDummies = AgeDummies.drop('Forties',axis=1)\n",
    "CabinTypeDummies = pd.get_dummies(cabinNotNull_DF['CabinType'])\n",
    "EmbarkedDummies = pd.get_dummies(cabinNotNull_DF['Embarked'])\n",
    "CabinTypeDummies.columns = ['CabinA','CabinB','CabinC','CabinD','CabinE','CabinF','CabinG']\n",
    "CabinTypeDummies = CabinTypeDummies.drop('CabinA',axis=1)\n",
    "EmbarkedDummies.columns = ['EmbarkedC','EmbarkedQ','EmbarkedS']\n",
    "EmbarkedDummies = EmbarkedDummies.drop('EmbarkedQ',axis=1)"
   ]
  },
  {
   "cell_type": "code",
   "execution_count": 826,
   "metadata": {
    "collapsed": false
   },
   "outputs": [
    {
     "name": "stdout",
     "output_type": "stream",
     "text": [
      "<class 'pandas.core.frame.DataFrame'>\n",
      "Int64Index: 182 entries, 1 to 889\n",
      "Data columns (total 17 columns):\n",
      "Survived     182 non-null int64\n",
      "Pclass       182 non-null int64\n",
      "Alone        182 non-null object\n",
      "female       182 non-null float64\n",
      "Child        182 non-null float64\n",
      "Fifties      182 non-null float64\n",
      "Seniors      182 non-null float64\n",
      "Thirties     182 non-null float64\n",
      "Twenties     182 non-null float64\n",
      "CabinB       182 non-null float64\n",
      "CabinC       182 non-null float64\n",
      "CabinD       182 non-null float64\n",
      "CabinE       182 non-null float64\n",
      "CabinF       182 non-null float64\n",
      "CabinG       182 non-null float64\n",
      "EmbarkedC    182 non-null float64\n",
      "EmbarkedS    182 non-null float64\n",
      "dtypes: float64(14), int64(2), object(1)\n",
      "memory usage: 25.6+ KB\n"
     ]
    }
   ],
   "source": [
    "Training_DF = cabinNotNull_DF.drop(['SibSp','Age','PassengerId','Parch','Name','Ticket','Fare','CabinType','Sex','Embarked','Cabin','AgeSilos'],axis=1)\n",
    "Training_DF = pd.concat([Training_DF,SexDummies,AgeDummies,CabinTypeDummies,EmbarkedDummies],axis=1)\n",
    "Training_DF.info()"
   ]
  },
  {
   "cell_type": "markdown",
   "metadata": {},
   "source": [
    "Ok, now the data frame is in a format that I can run logistic regression on!"
   ]
  },
  {
   "cell_type": "markdown",
   "metadata": {},
   "source": [
    "Lets separate the target variable from the predictor variables and put the target variable in an 'array' format as required by scikit."
   ]
  },
  {
   "cell_type": "code",
   "execution_count": 899,
   "metadata": {
    "collapsed": false
   },
   "outputs": [],
   "source": [
    "Y = np.ravel(Training_DF['Survived'])\n",
    "X = Training_DF.drop('Survived',axis=1)"
   ]
  },
  {
   "cell_type": "code",
   "execution_count": 900,
   "metadata": {
    "collapsed": false
   },
   "outputs": [
    {
     "data": {
      "text/plain": [
       "0.79670329670329665"
      ]
     },
     "execution_count": 900,
     "metadata": {},
     "output_type": "execute_result"
    }
   ],
   "source": [
    "# Machine Learning Imports\n",
    "from sklearn.linear_model import LogisticRegression\n",
    "# For evaluating our ML results\n",
    "from sklearn import metrics\n",
    "\n",
    "glm_Training = LogisticRegression()\n",
    "glm_Training.fit(X,Y)\n",
    "glm_Training.score(X,Y)"
   ]
  },
  {
   "cell_type": "markdown",
   "metadata": {},
   "source": [
    "So, that's around 80% accuracy rating for the Logitic Regression model.\n",
    "How does this compare to a simple 'guess' of Survived = 0 for every passenger?\n",
    "I can get this by comparing the percentage of survivors in the training set, i.e. the mean of the survivors.  Technically, I'm check the \"null error rate\".  \n",
    "\n",
    "Now let's use statsmodels and rerun the logistic regression and get a summary of the result:"
   ]
  },
  {
   "cell_type": "code",
   "execution_count": 829,
   "metadata": {
    "collapsed": false
   },
   "outputs": [
    {
     "data": {
      "text/plain": [
       "0.67582417582417587"
      ]
     },
     "execution_count": 829,
     "metadata": {},
     "output_type": "execute_result"
    }
   ],
   "source": [
    "Y.mean()"
   ]
  },
  {
   "cell_type": "markdown",
   "metadata": {},
   "source": [
    "This means, if I had simply guessed \"Survived = 1\" for every pasenger, I would have had 68% accuracy.  So, the logistic model is already doing a much better job than my simplistic 'guess' model.  \n",
    "I'll now check the coefficients of my logistic model, to see the prediction strengths of the explanatory variables."
   ]
  },
  {
   "cell_type": "code",
   "execution_count": 830,
   "metadata": {
    "collapsed": false
   },
   "outputs": [
    {
     "data": {
      "text/html": [
       "<div>\n",
       "<table border=\"1\" class=\"dataframe\">\n",
       "  <thead>\n",
       "    <tr style=\"text-align: right;\">\n",
       "      <th></th>\n",
       "      <th>0</th>\n",
       "      <th>1</th>\n",
       "    </tr>\n",
       "  </thead>\n",
       "  <tbody>\n",
       "    <tr>\n",
       "      <th>0</th>\n",
       "      <td>Intercept</td>\n",
       "      <td>[0.288242835079]</td>\n",
       "    </tr>\n",
       "    <tr>\n",
       "      <th>1</th>\n",
       "      <td>Pclass</td>\n",
       "      <td>[-0.496951642554]</td>\n",
       "    </tr>\n",
       "    <tr>\n",
       "      <th>2</th>\n",
       "      <td>Alone</td>\n",
       "      <td>[-0.244311044152]</td>\n",
       "    </tr>\n",
       "    <tr>\n",
       "      <th>3</th>\n",
       "      <td>female</td>\n",
       "      <td>[2.55160625809]</td>\n",
       "    </tr>\n",
       "    <tr>\n",
       "      <th>4</th>\n",
       "      <td>Child</td>\n",
       "      <td>[1.06746344725]</td>\n",
       "    </tr>\n",
       "    <tr>\n",
       "      <th>5</th>\n",
       "      <td>Fifties</td>\n",
       "      <td>[-0.700627345099]</td>\n",
       "    </tr>\n",
       "    <tr>\n",
       "      <th>6</th>\n",
       "      <td>Seniors</td>\n",
       "      <td>[-0.670605029192]</td>\n",
       "    </tr>\n",
       "    <tr>\n",
       "      <th>7</th>\n",
       "      <td>Thirties</td>\n",
       "      <td>[0.538850565786]</td>\n",
       "    </tr>\n",
       "    <tr>\n",
       "      <th>8</th>\n",
       "      <td>Twenties</td>\n",
       "      <td>[0.240566991028]</td>\n",
       "    </tr>\n",
       "    <tr>\n",
       "      <th>9</th>\n",
       "      <td>CabinB</td>\n",
       "      <td>[-0.00495490285487]</td>\n",
       "    </tr>\n",
       "    <tr>\n",
       "      <th>10</th>\n",
       "      <td>CabinC</td>\n",
       "      <td>[-0.665882043294]</td>\n",
       "    </tr>\n",
       "    <tr>\n",
       "      <th>11</th>\n",
       "      <td>CabinD</td>\n",
       "      <td>[0.193504674297]</td>\n",
       "    </tr>\n",
       "    <tr>\n",
       "      <th>12</th>\n",
       "      <td>CabinE</td>\n",
       "      <td>[0.613334906495]</td>\n",
       "    </tr>\n",
       "    <tr>\n",
       "      <th>13</th>\n",
       "      <td>CabinF</td>\n",
       "      <td>[0.209765713717]</td>\n",
       "    </tr>\n",
       "    <tr>\n",
       "      <th>14</th>\n",
       "      <td>CabinG</td>\n",
       "      <td>[-0.930282604406]</td>\n",
       "    </tr>\n",
       "    <tr>\n",
       "      <th>15</th>\n",
       "      <td>EmbarkedC</td>\n",
       "      <td>[0.508418853478]</td>\n",
       "    </tr>\n",
       "    <tr>\n",
       "      <th>16</th>\n",
       "      <td>EmbarkedS</td>\n",
       "      <td>[-0.0246253215902]</td>\n",
       "    </tr>\n",
       "  </tbody>\n",
       "</table>\n",
       "</div>"
      ],
      "text/plain": [
       "            0                    1\n",
       "0   Intercept     [0.288242835079]\n",
       "1      Pclass    [-0.496951642554]\n",
       "2       Alone    [-0.244311044152]\n",
       "3      female      [2.55160625809]\n",
       "4       Child      [1.06746344725]\n",
       "5     Fifties    [-0.700627345099]\n",
       "6     Seniors    [-0.670605029192]\n",
       "7    Thirties     [0.538850565786]\n",
       "8    Twenties     [0.240566991028]\n",
       "9      CabinB  [-0.00495490285487]\n",
       "10     CabinC    [-0.665882043294]\n",
       "11     CabinD     [0.193504674297]\n",
       "12     CabinE     [0.613334906495]\n",
       "13     CabinF     [0.209765713717]\n",
       "14     CabinG    [-0.930282604406]\n",
       "15  EmbarkedC     [0.508418853478]\n",
       "16  EmbarkedS   [-0.0246253215902]"
      ]
     },
     "execution_count": 830,
     "metadata": {},
     "output_type": "execute_result"
    }
   ],
   "source": [
    "glmCoeff_DF = DataFrame([['Intercept',glm_Training.intercept_]])\n",
    "glmCoeff_DF = glmCoeff_DF.append(DataFrame(zip(X.columns,np.transpose(glm_Training.coef_))),ignore_index=True)\n",
    "glmCoeff_DF"
   ]
  },
  {
   "cell_type": "markdown",
   "metadata": {},
   "source": [
    "Since this doesn't provide details of satistical significance of the coefficient, I am going to use statsmodels, rerun the logistic regression and get a summary of the result:"
   ]
  },
  {
   "cell_type": "code",
   "execution_count": 831,
   "metadata": {
    "collapsed": false
   },
   "outputs": [
    {
     "name": "stdout",
     "output_type": "stream",
     "text": [
      "Optimization terminated successfully.\n",
      "         Current function value: 0.391966\n",
      "         Iterations 7\n"
     ]
    },
    {
     "data": {
      "text/html": [
       "<table class=\"simpletable\">\n",
       "<caption>Logit Regression Results</caption>\n",
       "<tr>\n",
       "  <th>Dep. Variable:</th>     <td>Survived</td>     <th>  No. Observations:  </th>  <td>   182</td>  \n",
       "</tr>\n",
       "<tr>\n",
       "  <th>Model:</th>               <td>Logit</td>      <th>  Df Residuals:      </th>  <td>   166</td>  \n",
       "</tr>\n",
       "<tr>\n",
       "  <th>Method:</th>               <td>MLE</td>       <th>  Df Model:          </th>  <td>    15</td>  \n",
       "</tr>\n",
       "<tr>\n",
       "  <th>Date:</th>          <td>Sun, 14 Feb 2016</td> <th>  Pseudo R-squ.:     </th>  <td>0.3778</td>  \n",
       "</tr>\n",
       "<tr>\n",
       "  <th>Time:</th>              <td>22:48:49</td>     <th>  Log-Likelihood:    </th> <td> -71.338</td> \n",
       "</tr>\n",
       "<tr>\n",
       "  <th>converged:</th>           <td>True</td>       <th>  LL-Null:           </th> <td> -114.66</td> \n",
       "</tr>\n",
       "<tr>\n",
       "  <th> </th>                      <td> </td>        <th>  LLR p-value:       </th> <td>4.189e-12</td>\n",
       "</tr>\n",
       "</table>\n",
       "<table class=\"simpletable\">\n",
       "<tr>\n",
       "      <td></td>         <th>coef</th>     <th>std err</th>      <th>z</th>      <th>P>|z|</th> <th>[95.0% Conf. Int.]</th> \n",
       "</tr>\n",
       "<tr>\n",
       "  <th>Pclass</th>    <td>   -0.4073</td> <td>    0.684</td> <td>   -0.596</td> <td> 0.551</td> <td>   -1.748     0.933</td>\n",
       "</tr>\n",
       "<tr>\n",
       "  <th>Alone</th>     <td>   -0.4455</td> <td>    0.484</td> <td>   -0.920</td> <td> 0.357</td> <td>   -1.394     0.503</td>\n",
       "</tr>\n",
       "<tr>\n",
       "  <th>female</th>    <td>    3.7061</td> <td>    0.644</td> <td>    5.757</td> <td> 0.000</td> <td>    2.444     4.968</td>\n",
       "</tr>\n",
       "<tr>\n",
       "  <th>Child</th>     <td>    2.1074</td> <td>    1.116</td> <td>    1.888</td> <td> 0.059</td> <td>   -0.080     4.295</td>\n",
       "</tr>\n",
       "<tr>\n",
       "  <th>Fifties</th>   <td>   -1.2903</td> <td>    0.759</td> <td>   -1.699</td> <td> 0.089</td> <td>   -2.778     0.198</td>\n",
       "</tr>\n",
       "<tr>\n",
       "  <th>Seniors</th>   <td>   -1.0725</td> <td>    0.922</td> <td>   -1.163</td> <td> 0.245</td> <td>   -2.880     0.735</td>\n",
       "</tr>\n",
       "<tr>\n",
       "  <th>Thirties</th>  <td>    0.6066</td> <td>    0.634</td> <td>    0.957</td> <td> 0.338</td> <td>   -0.635     1.849</td>\n",
       "</tr>\n",
       "<tr>\n",
       "  <th>Twenties</th>  <td>    0.3034</td> <td>    0.660</td> <td>    0.460</td> <td> 0.646</td> <td>   -0.990     1.597</td>\n",
       "</tr>\n",
       "<tr>\n",
       "  <th>CabinB</th>    <td>   -0.7210</td> <td>    0.824</td> <td>   -0.875</td> <td> 0.382</td> <td>   -2.336     0.894</td>\n",
       "</tr>\n",
       "<tr>\n",
       "  <th>CabinC</th>    <td>   -1.5866</td> <td>    0.825</td> <td>   -1.922</td> <td> 0.055</td> <td>   -3.204     0.031</td>\n",
       "</tr>\n",
       "<tr>\n",
       "  <th>CabinD</th>    <td>   -0.4189</td> <td>    0.895</td> <td>   -0.468</td> <td> 0.640</td> <td>   -2.174     1.336</td>\n",
       "</tr>\n",
       "<tr>\n",
       "  <th>CabinE</th>    <td>    0.3242</td> <td>    0.903</td> <td>    0.359</td> <td> 0.720</td> <td>   -1.446     2.094</td>\n",
       "</tr>\n",
       "<tr>\n",
       "  <th>CabinF</th>    <td>   -0.8374</td> <td>    1.511</td> <td>   -0.554</td> <td> 0.579</td> <td>   -3.799     2.124</td>\n",
       "</tr>\n",
       "<tr>\n",
       "  <th>CabinG</th>    <td>   -4.3853</td> <td>    2.154</td> <td>   -2.036</td> <td> 0.042</td> <td>   -8.608    -0.163</td>\n",
       "</tr>\n",
       "<tr>\n",
       "  <th>EmbarkedC</th> <td>    1.3995</td> <td>    1.041</td> <td>    1.345</td> <td> 0.179</td> <td>   -0.640     3.439</td>\n",
       "</tr>\n",
       "<tr>\n",
       "  <th>EmbarkedS</th> <td>    0.6958</td> <td>    1.036</td> <td>    0.671</td> <td> 0.502</td> <td>   -1.336     2.727</td>\n",
       "</tr>\n",
       "</table>"
      ],
      "text/plain": [
       "<class 'statsmodels.iolib.summary.Summary'>\n",
       "\"\"\"\n",
       "                           Logit Regression Results                           \n",
       "==============================================================================\n",
       "Dep. Variable:               Survived   No. Observations:                  182\n",
       "Model:                          Logit   Df Residuals:                      166\n",
       "Method:                           MLE   Df Model:                           15\n",
       "Date:                Sun, 14 Feb 2016   Pseudo R-squ.:                  0.3778\n",
       "Time:                        22:48:49   Log-Likelihood:                -71.338\n",
       "converged:                       True   LL-Null:                       -114.66\n",
       "                                        LLR p-value:                 4.189e-12\n",
       "==============================================================================\n",
       "                 coef    std err          z      P>|z|      [95.0% Conf. Int.]\n",
       "------------------------------------------------------------------------------\n",
       "Pclass        -0.4073      0.684     -0.596      0.551        -1.748     0.933\n",
       "Alone         -0.4455      0.484     -0.920      0.357        -1.394     0.503\n",
       "female         3.7061      0.644      5.757      0.000         2.444     4.968\n",
       "Child          2.1074      1.116      1.888      0.059        -0.080     4.295\n",
       "Fifties       -1.2903      0.759     -1.699      0.089        -2.778     0.198\n",
       "Seniors       -1.0725      0.922     -1.163      0.245        -2.880     0.735\n",
       "Thirties       0.6066      0.634      0.957      0.338        -0.635     1.849\n",
       "Twenties       0.3034      0.660      0.460      0.646        -0.990     1.597\n",
       "CabinB        -0.7210      0.824     -0.875      0.382        -2.336     0.894\n",
       "CabinC        -1.5866      0.825     -1.922      0.055        -3.204     0.031\n",
       "CabinD        -0.4189      0.895     -0.468      0.640        -2.174     1.336\n",
       "CabinE         0.3242      0.903      0.359      0.720        -1.446     2.094\n",
       "CabinF        -0.8374      1.511     -0.554      0.579        -3.799     2.124\n",
       "CabinG        -4.3853      2.154     -2.036      0.042        -8.608    -0.163\n",
       "EmbarkedC      1.3995      1.041      1.345      0.179        -0.640     3.439\n",
       "EmbarkedS      0.6958      1.036      0.671      0.502        -1.336     2.727\n",
       "==============================================================================\n",
       "\"\"\""
      ]
     },
     "execution_count": 831,
     "metadata": {},
     "output_type": "execute_result"
    }
   ],
   "source": [
    "import statsmodels.api as sma\n",
    "\n",
    "Survived = np.int16(Training_DF['Survived'])\n",
    "X_array = np.int16(X)\n",
    "yName = 'Survived'\n",
    "xName = map(lambda X_columnNames: X_columnNames, X.columns)\n",
    "logit = sma.Logit(Survived,X_array)\n",
    "result = logit.fit()\n",
    "result.summary(yname=yName,xname=xName)"
   ]
  },
  {
   "cell_type": "markdown",
   "metadata": {},
   "source": [
    "Right off the bat, we can see that the p-values for some of the explanatory variables, is **> 0.05**.  So, these variables are **statistically not significant** at the significance level of **$\\alpha$ = 0.05**.  Here are those variables, which I am going to remove from my regression model and re-run the logistic regression:  \n",
    "Pclass  \n",
    "Alone  \n",
    "Child  \n",
    "Fifties  \n",
    "Seniors  \n",
    "Thirties  \n",
    "Twenties  \n",
    "CabinB  \n",
    "CabinD  \n",
    "CabinE  \n",
    "CabinF  \n",
    "EmbarkedC  \n",
    "EmbarkedS  \n",
    "\n",
    "Hmm, that's an awful lot of variables that I need to throw away.  So, I am going to take the original DataFrame and throw away the relevant variables.\n",
    "\n",
    "Meanwhile, I noticed that there are quite a few male passengers who embarked from either S or C ports and seemed to have survived.  Here is the visualization of this:"
   ]
  },
  {
   "cell_type": "code",
   "execution_count": 832,
   "metadata": {
    "collapsed": false
   },
   "outputs": [
    {
     "name": "stdout",
     "output_type": "stream",
     "text": [
      "<class 'pandas.core.frame.DataFrame'>\n",
      "Int64Index: 889 entries, 0 to 890\n",
      "Data columns (total 14 columns):\n",
      "PassengerId          889 non-null int64\n",
      "Survived             889 non-null int64\n",
      "Pclass               889 non-null int64\n",
      "Name                 889 non-null object\n",
      "Sex                  889 non-null object\n",
      "Age                  712 non-null float64\n",
      "SibSp                889 non-null int64\n",
      "Parch                889 non-null int64\n",
      "Ticket               889 non-null object\n",
      "Fare                 889 non-null float64\n",
      "Cabin                202 non-null object\n",
      "Embarked             889 non-null object\n",
      "maleEmbarkedPortC    889 non-null int64\n",
      "maleEmbarkedPortS    889 non-null int64\n",
      "dtypes: float64(2), int64(7), object(5)\n",
      "memory usage: 104.2+ KB\n"
     ]
    },
    {
     "data": {
      "image/png": "[encoded data removed]",
      "text/plain": [
       "<matplotlib.figure.Figure at 0x12b413250>"
      ]
     },
     "metadata": {},
     "output_type": "display_data"
    },
    {
     "data": {
      "image/png": "[encoded data removed]",
      "text/plain": [
       "<matplotlib.figure.Figure at 0x12b544f10>"
      ]
     },
     "metadata": {},
     "output_type": "display_data"
    }
   ],
   "source": [
    "titanic_DF = pd.read_csv(\"train.csv\")\n",
    "titanic_DF = titanic_DF[pd.notnull(titanic_DF['Embarked'])]\n",
    "def interactTerms((sexVal, portVal)):\n",
    "    if sexVal == True & portVal == True :\n",
    "        return 1\n",
    "    else:\n",
    "        return 0\n",
    "interactTermList = []\n",
    "for (gender, embarkPortC) in np.int64(zip(titanic_DF['Sex'] == 'male',titanic_DF['Embarked'] == 'C')):\n",
    "    interactTermList.append(interactTerms((gender, embarkPortC)))\n",
    "titanic_DF['maleEmbarkedPortC'] = interactTermList\n",
    "interactTermList = []\n",
    "for (gender, embarkPortS) in np.int64(zip(titanic_DF['Sex'] == 'male',titanic_DF['Embarked'] == 'S')):\n",
    "    interactTermList.append(interactTerms((gender, embarkPortS)))\n",
    "titanic_DF['maleEmbarkedPortS'] = interactTermList\n",
    "fig14 = sbn.factorplot(data=titanic_DF,kind=\"count\",x=\"maleEmbarkedPortC\",hue='Survived')\n",
    "fig14.set_axis_labels(\"Fig 14. Male embarked from Port C (titanic_DF)\")\n",
    "fig15 = sbn.factorplot(data=titanic_DF,kind=\"count\",x=\"maleEmbarkedPortS\",hue='Survived')\n",
    "fig15.set_axis_labels(\"Fig 15. Male embarked from Port S (titanic_DF)\")\n",
    "titanic_DF.info()"
   ]
  },
  {
   "cell_type": "markdown",
   "metadata": {},
   "source": [
    "This brings into the picture **interaction terms**. Before removing the variables identified as statistically not significant from the previous regression run, I would like to create the relevant interaction terms, after which I would like to test my hypothesis of adding males who embarked from either S or C ports into the mix.  Of course, I will remove the above-mentioned variables after I have created the interaction terms."
   ]
  },
  {
   "cell_type": "code",
   "execution_count": 896,
   "metadata": {
    "collapsed": false
   },
   "outputs": [],
   "source": [
    "Xmod_DF = titanic_DF.drop(['PassengerId', 'Pclass','Name','Age','SibSp','Parch','Ticket','Fare','Cabin','Embarked'],axis=1)\n",
    "SexDummies = pd.get_dummies(Xmod_DF['Sex'])\n",
    "SexDummies = SexDummies.drop('male',axis=1)\n",
    "Xmod_DF = pd.concat([Xmod_DF,SexDummies],axis=1)\n",
    "Xmod_DF = Xmod_DF.drop('Sex',axis=1)\n",
    "Xmod_DF['female'] = np.int64(Xmod_DF['female'])"
   ]
  },
  {
   "cell_type": "code",
   "execution_count": 897,
   "metadata": {
    "collapsed": false
   },
   "outputs": [
    {
     "name": "stdout",
     "output_type": "stream",
     "text": [
      "Optimization terminated successfully.\n",
      "         Current function value: 0.528423\n",
      "         Iterations 5\n"
     ]
    },
    {
     "data": {
      "text/html": [
       "<table class=\"simpletable\">\n",
       "<caption>Logit Regression Results</caption>\n",
       "<tr>\n",
       "  <th>Dep. Variable:</th>     <td>Survived</td>     <th>  No. Observations:  </th>  <td>   889</td>  \n",
       "</tr>\n",
       "<tr>\n",
       "  <th>Model:</th>               <td>Logit</td>      <th>  Df Residuals:      </th>  <td>   886</td>  \n",
       "</tr>\n",
       "<tr>\n",
       "  <th>Method:</th>               <td>MLE</td>       <th>  Df Model:          </th>  <td>     2</td>  \n",
       "</tr>\n",
       "<tr>\n",
       "  <th>Date:</th>          <td>Sun, 14 Feb 2016</td> <th>  Pseudo R-squ.:     </th>  <td>0.2057</td>  \n",
       "</tr>\n",
       "<tr>\n",
       "  <th>Time:</th>              <td>23:11:21</td>     <th>  Log-Likelihood:    </th> <td> -469.77</td> \n",
       "</tr>\n",
       "<tr>\n",
       "  <th>converged:</th>           <td>True</td>       <th>  LL-Null:           </th> <td> -591.41</td> \n",
       "</tr>\n",
       "<tr>\n",
       "  <th> </th>                      <td> </td>        <th>  LLR p-value:       </th> <td>1.487e-53</td>\n",
       "</tr>\n",
       "</table>\n",
       "<table class=\"simpletable\">\n",
       "<tr>\n",
       "          <td></td>             <th>coef</th>     <th>std err</th>      <th>z</th>      <th>P>|z|</th> <th>[95.0% Conf. Int.]</th> \n",
       "</tr>\n",
       "<tr>\n",
       "  <th>maleEmbarkedPortC</th> <td>   -0.8224</td> <td>    0.223</td> <td>   -3.691</td> <td> 0.000</td> <td>   -1.259    -0.386</td>\n",
       "</tr>\n",
       "<tr>\n",
       "  <th>maleEmbarkedPortS</th> <td>   -1.5533</td> <td>    0.125</td> <td>  -12.384</td> <td> 0.000</td> <td>   -1.799    -1.307</td>\n",
       "</tr>\n",
       "<tr>\n",
       "  <th>female</th>            <td>    1.0480</td> <td>    0.129</td> <td>    8.116</td> <td> 0.000</td> <td>    0.795     1.301</td>\n",
       "</tr>\n",
       "</table>"
      ],
      "text/plain": [
       "<class 'statsmodels.iolib.summary.Summary'>\n",
       "\"\"\"\n",
       "                           Logit Regression Results                           \n",
       "==============================================================================\n",
       "Dep. Variable:               Survived   No. Observations:                  889\n",
       "Model:                          Logit   Df Residuals:                      886\n",
       "Method:                           MLE   Df Model:                            2\n",
       "Date:                Sun, 14 Feb 2016   Pseudo R-squ.:                  0.2057\n",
       "Time:                        23:11:21   Log-Likelihood:                -469.77\n",
       "converged:                       True   LL-Null:                       -591.41\n",
       "                                        LLR p-value:                 1.487e-53\n",
       "=====================================================================================\n",
       "                        coef    std err          z      P>|z|      [95.0% Conf. Int.]\n",
       "-------------------------------------------------------------------------------------\n",
       "maleEmbarkedPortC    -0.8224      0.223     -3.691      0.000        -1.259    -0.386\n",
       "maleEmbarkedPortS    -1.5533      0.125    -12.384      0.000        -1.799    -1.307\n",
       "female                1.0480      0.129      8.116      0.000         0.795     1.301\n",
       "=====================================================================================\n",
       "\"\"\""
      ]
     },
     "execution_count": 897,
     "metadata": {},
     "output_type": "execute_result"
    }
   ],
   "source": [
    "Survived = np.int16(Xmod_DF['Survived'])\n",
    "Xmod_DF = Xmod_DF.drop(['Survived'],axis=1)\n",
    "X_array = np.int16(Xmod_DF)\n",
    "yName = 'Survived'\n",
    "xName = map(lambda X_columnNames: X_columnNames, Xmod_DF.columns)\n",
    "logit = sma.Logit(Survived,X_array)\n",
    "regressionResult = logit.fit()\n",
    "regressionResult.summary(yname=yName,xname=xName)"
   ]
  },
  {
   "cell_type": "markdown",
   "metadata": {},
   "source": [
    "And as expected, all three variables are statistically significant, even at $\\alpha$ = 0.01 level.  \n",
    "\n",
    "Ok, now I'm going to run this model on the test data set that has been provided.  But, I will need to \"clean up\" the **test data set** and put it in a format similar to the **training data set**, for my model to work properly.  These steps are a repeat of what was done on the training data set:"
   ]
  },
  {
   "cell_type": "code",
   "execution_count": 916,
   "metadata": {
    "collapsed": false
   },
   "outputs": [
    {
     "data": {
      "text/plain": [
       "0.78627671541057365"
      ]
     },
     "execution_count": 916,
     "metadata": {},
     "output_type": "execute_result"
    }
   ],
   "source": [
    "titanic_test_DF = pd.read_csv(\"test.csv\")\n",
    "titanic_test_DF = titanic_test_DF[pd.notnull(titanic_test_DF['Embarked'])]\n",
    "titanic_test_DF = titanic_test_DF[pd.notnull(titanic_test_DF['Sex'])]\n",
    "def interactTerms((sexVal, portVal)):\n",
    "    if sexVal == True & portVal == True :\n",
    "        return 1\n",
    "    else:\n",
    "        return 0\n",
    "interactTermList = []\n",
    "for (gender, embarkPortC) in np.int64(zip(titanic_test_DF['Sex'] == 'male',titanic_test_DF['Embarked'] == 'C')):\n",
    "    interactTermList.append(interactTerms((gender, embarkPortC)))\n",
    "titanic_test_DF['maleEmbarkedPortC'] = interactTermList\n",
    "interactTermList = []\n",
    "for (gender, embarkPortS) in np.int64(zip(titanic_test_DF['Sex'] == 'male',titanic_test_DF['Embarked'] == 'S')):\n",
    "    interactTermList.append(interactTerms((gender, embarkPortS)))\n",
    "titanic_test_DF['maleEmbarkedPortS'] = interactTermList\n",
    "SexDummies = pd.get_dummies(titanic_test_DF['Sex'])\n",
    "SexDummies = SexDummies.drop('male',axis=1)\n",
    "Xmod_test_DF = titanic_test_DF.drop(['PassengerId', 'Pclass','Name','Age','SibSp','Parch','Ticket','Fare','Cabin','Embarked'],axis=1)\n",
    "SexDummies = pd.get_dummies(Xmod_test_DF['Sex'])\n",
    "SexDummies = SexDummies.drop('male',axis=1)\n",
    "Xmod_test_DF = pd.concat([Xmod_test_DF,SexDummies],axis=1)\n",
    "Xmod_test_DF = Xmod_test_DF.drop('Sex',axis=1)\n",
    "Xmod_test_DF['female'] = np.int64(Xmod_test_DF['female'])\n",
    "X_test_array = np.int16(Xmod_test_DF)\n",
    "glm_Training = LogisticRegression()\n",
    "glm_Training.fit(Xmod_DF,Survived)\n",
    "glm_Training.score(Xmod_DF,Survived)"
   ]
  },
  {
   "cell_type": "code",
   "execution_count": 917,
   "metadata": {
    "collapsed": false
   },
   "outputs": [
    {
     "data": {
      "text/plain": [
       "0.36363636363636365"
      ]
     },
     "execution_count": 917,
     "metadata": {},
     "output_type": "execute_result"
    }
   ],
   "source": [
    "predictedSurvival = glm_Training.predict(X_test_array)\n",
    "predictedSurvival.mean()"
   ]
  },
  {
   "cell_type": "markdown",
   "metadata": {},
   "source": [
    "# Predicting with sklearn library"
   ]
  },
  {
   "cell_type": "code",
   "execution_count": 922,
   "metadata": {
    "collapsed": false
   },
   "outputs": [
    {
     "data": {
      "text/plain": [
       "0.36363636363636365"
      ]
     },
     "execution_count": 922,
     "metadata": {},
     "output_type": "execute_result"
    }
   ],
   "source": [
    "predicted_DF1 = pd.DataFrame(glm_Training.predict(X_test_array),columns=['Survived'])\n",
    "titanic_test_DF.index=xrange(len(titanic_test_DF))\n",
    "predicted_DF1.index=xrange(len(predicted_DF1))\n",
    "result_DF1 = pd.concat([titanic_test_DF,predicted_DF1],axis=1)\n",
    "result_DF1['Survived'].mean()"
   ]
  },
  {
   "cell_type": "markdown",
   "metadata": {},
   "source": [
    "# Predicting with statsmodels.api"
   ]
  },
  {
   "cell_type": "code",
   "execution_count": 923,
   "metadata": {
    "collapsed": false
   },
   "outputs": [],
   "source": [
    "predicted_DF2 = pd.DataFrame(np.int16(np.round(regressionResult.predict(X_test_array))),columns=['Survived'])"
   ]
  },
  {
   "cell_type": "code",
   "execution_count": 926,
   "metadata": {
    "collapsed": false
   },
   "outputs": [
    {
     "data": {
      "text/plain": [
       "0.36363636363636365"
      ]
     },
     "execution_count": 926,
     "metadata": {},
     "output_type": "execute_result"
    }
   ],
   "source": [
    "result_DF2 = pd.concat([titanic_test_DF,predicted_DF2],axis=1)\n",
    "result_DF2['Survived'].mean()"
   ]
  },
  {
   "cell_type": "code",
   "execution_count": 928,
   "metadata": {
    "collapsed": false
   },
   "outputs": [
    {
     "name": "stdout",
     "output_type": "stream",
     "text": [
      "<class 'pandas.core.frame.DataFrame'>\n",
      "Int64Index: 418 entries, 0 to 417\n",
      "Data columns (total 14 columns):\n",
      "PassengerId          418 non-null int64\n",
      "Pclass               418 non-null int64\n",
      "Name                 418 non-null object\n",
      "Sex                  418 non-null object\n",
      "Age                  332 non-null float64\n",
      "SibSp                418 non-null int64\n",
      "Parch                418 non-null int64\n",
      "Ticket               418 non-null object\n",
      "Fare                 417 non-null float64\n",
      "Cabin                91 non-null object\n",
      "Embarked             418 non-null object\n",
      "maleEmbarkedPortC    418 non-null int64\n",
      "maleEmbarkedPortS    418 non-null int64\n",
      "Survived             418 non-null int16\n",
      "dtypes: float64(2), int16(1), int64(6), object(5)\n",
      "memory usage: 46.5+ KB\n"
     ]
    }
   ],
   "source": [
    "result_DF2.info()"
   ]
  }
 ],
 "metadata": {
  "kernelspec": {
   "display_name": "Python 2",
   "language": "python",
   "name": "python2"
  },
  "language_info": {
   "codemirror_mode": {
    "name": "ipython",
    "version": 2
   },
   "file_extension": ".py",
   "mimetype": "text/x-python",
   "name": "python",
   "nbconvert_exporter": "python",
   "pygments_lexer": "ipython2",
   "version": "2.7.10"
  }
 },
 "nbformat": 4,
 "nbformat_minor": 0
}
